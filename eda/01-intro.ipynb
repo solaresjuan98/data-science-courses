{
 "cells": [
  {
   "cell_type": "code",
   "execution_count": 22,
   "metadata": {},
   "outputs": [],
   "source": [
    "zoo_data = 'https://archive.ics.uci.edu/ml/machine-learning-databases/zoo/zoo.data'\n",
    "\n",
    "zoo_name= ['animal name','hair','feathers','eggs','milk','airborne','aquatic','predator','toothed','backbone','breathes','venomous','fins','legs','tail','domestic',' cat-size','type']\n"
   ]
  },
  {
   "cell_type": "code",
   "execution_count": 23,
   "metadata": {},
   "outputs": [],
   "source": [
    "import pandas as pd\n",
    "import altair as alt\n",
    "import plotly.express as px\n"
   ]
  },
  {
   "cell_type": "code",
   "execution_count": 24,
   "metadata": {},
   "outputs": [
    {
     "data": {
      "text/html": [
       "<div>\n",
       "<style scoped>\n",
       "    .dataframe tbody tr th:only-of-type {\n",
       "        vertical-align: middle;\n",
       "    }\n",
       "\n",
       "    .dataframe tbody tr th {\n",
       "        vertical-align: top;\n",
       "    }\n",
       "\n",
       "    .dataframe thead th {\n",
       "        text-align: right;\n",
       "    }\n",
       "</style>\n",
       "<table border=\"1\" class=\"dataframe\">\n",
       "  <thead>\n",
       "    <tr style=\"text-align: right;\">\n",
       "      <th></th>\n",
       "      <th>aardvark</th>\n",
       "      <th>1</th>\n",
       "      <th>0</th>\n",
       "      <th>0.1</th>\n",
       "      <th>1.1</th>\n",
       "      <th>0.2</th>\n",
       "      <th>0.3</th>\n",
       "      <th>1.2</th>\n",
       "      <th>1.3</th>\n",
       "      <th>1.4</th>\n",
       "      <th>1.5</th>\n",
       "      <th>0.4</th>\n",
       "      <th>0.5</th>\n",
       "      <th>4</th>\n",
       "      <th>0.6</th>\n",
       "      <th>0.7</th>\n",
       "      <th>1.6</th>\n",
       "      <th>1.7</th>\n",
       "    </tr>\n",
       "  </thead>\n",
       "  <tbody>\n",
       "    <tr>\n",
       "      <th>0</th>\n",
       "      <td>antelope</td>\n",
       "      <td>1</td>\n",
       "      <td>0</td>\n",
       "      <td>0</td>\n",
       "      <td>1</td>\n",
       "      <td>0</td>\n",
       "      <td>0</td>\n",
       "      <td>0</td>\n",
       "      <td>1</td>\n",
       "      <td>1</td>\n",
       "      <td>1</td>\n",
       "      <td>0</td>\n",
       "      <td>0</td>\n",
       "      <td>4</td>\n",
       "      <td>1</td>\n",
       "      <td>0</td>\n",
       "      <td>1</td>\n",
       "      <td>1</td>\n",
       "    </tr>\n",
       "    <tr>\n",
       "      <th>1</th>\n",
       "      <td>bass</td>\n",
       "      <td>0</td>\n",
       "      <td>0</td>\n",
       "      <td>1</td>\n",
       "      <td>0</td>\n",
       "      <td>0</td>\n",
       "      <td>1</td>\n",
       "      <td>1</td>\n",
       "      <td>1</td>\n",
       "      <td>1</td>\n",
       "      <td>0</td>\n",
       "      <td>0</td>\n",
       "      <td>1</td>\n",
       "      <td>0</td>\n",
       "      <td>1</td>\n",
       "      <td>0</td>\n",
       "      <td>0</td>\n",
       "      <td>4</td>\n",
       "    </tr>\n",
       "    <tr>\n",
       "      <th>2</th>\n",
       "      <td>bear</td>\n",
       "      <td>1</td>\n",
       "      <td>0</td>\n",
       "      <td>0</td>\n",
       "      <td>1</td>\n",
       "      <td>0</td>\n",
       "      <td>0</td>\n",
       "      <td>1</td>\n",
       "      <td>1</td>\n",
       "      <td>1</td>\n",
       "      <td>1</td>\n",
       "      <td>0</td>\n",
       "      <td>0</td>\n",
       "      <td>4</td>\n",
       "      <td>0</td>\n",
       "      <td>0</td>\n",
       "      <td>1</td>\n",
       "      <td>1</td>\n",
       "    </tr>\n",
       "    <tr>\n",
       "      <th>3</th>\n",
       "      <td>boar</td>\n",
       "      <td>1</td>\n",
       "      <td>0</td>\n",
       "      <td>0</td>\n",
       "      <td>1</td>\n",
       "      <td>0</td>\n",
       "      <td>0</td>\n",
       "      <td>1</td>\n",
       "      <td>1</td>\n",
       "      <td>1</td>\n",
       "      <td>1</td>\n",
       "      <td>0</td>\n",
       "      <td>0</td>\n",
       "      <td>4</td>\n",
       "      <td>1</td>\n",
       "      <td>0</td>\n",
       "      <td>1</td>\n",
       "      <td>1</td>\n",
       "    </tr>\n",
       "    <tr>\n",
       "      <th>4</th>\n",
       "      <td>buffalo</td>\n",
       "      <td>1</td>\n",
       "      <td>0</td>\n",
       "      <td>0</td>\n",
       "      <td>1</td>\n",
       "      <td>0</td>\n",
       "      <td>0</td>\n",
       "      <td>0</td>\n",
       "      <td>1</td>\n",
       "      <td>1</td>\n",
       "      <td>1</td>\n",
       "      <td>0</td>\n",
       "      <td>0</td>\n",
       "      <td>4</td>\n",
       "      <td>1</td>\n",
       "      <td>0</td>\n",
       "      <td>1</td>\n",
       "      <td>1</td>\n",
       "    </tr>\n",
       "  </tbody>\n",
       "</table>\n",
       "</div>"
      ],
      "text/plain": [
       "   aardvark  1  0  0.1  1.1  0.2  0.3  1.2  1.3  1.4  1.5  0.4  0.5  4  0.6  \\\n",
       "0  antelope  1  0    0    1    0    0    0    1    1    1    0    0  4    1   \n",
       "1      bass  0  0    1    0    0    1    1    1    1    0    0    1  0    1   \n",
       "2      bear  1  0    0    1    0    0    1    1    1    1    0    0  4    0   \n",
       "3      boar  1  0    0    1    0    0    1    1    1    1    0    0  4    1   \n",
       "4   buffalo  1  0    0    1    0    0    0    1    1    1    0    0  4    1   \n",
       "\n",
       "   0.7  1.6  1.7  \n",
       "0    0    1    1  \n",
       "1    0    0    4  \n",
       "2    0    1    1  \n",
       "3    0    1    1  \n",
       "4    0    1    1  "
      ]
     },
     "execution_count": 24,
     "metadata": {},
     "output_type": "execute_result"
    }
   ],
   "source": [
    "\n",
    "df_zoo = pd.read_csv(zoo_data)\n",
    "df_zoo.head()"
   ]
  },
  {
   "cell_type": "code",
   "execution_count": 25,
   "metadata": {},
   "outputs": [],
   "source": [
    "df_zoo.columns = zoo_name"
   ]
  },
  {
   "cell_type": "code",
   "execution_count": 26,
   "metadata": {},
   "outputs": [
    {
     "data": {
      "text/html": [
       "<div>\n",
       "<style scoped>\n",
       "    .dataframe tbody tr th:only-of-type {\n",
       "        vertical-align: middle;\n",
       "    }\n",
       "\n",
       "    .dataframe tbody tr th {\n",
       "        vertical-align: top;\n",
       "    }\n",
       "\n",
       "    .dataframe thead th {\n",
       "        text-align: right;\n",
       "    }\n",
       "</style>\n",
       "<table border=\"1\" class=\"dataframe\">\n",
       "  <thead>\n",
       "    <tr style=\"text-align: right;\">\n",
       "      <th></th>\n",
       "      <th>animal name</th>\n",
       "      <th>hair</th>\n",
       "      <th>feathers</th>\n",
       "      <th>eggs</th>\n",
       "      <th>milk</th>\n",
       "      <th>airborne</th>\n",
       "      <th>aquatic</th>\n",
       "      <th>predator</th>\n",
       "      <th>toothed</th>\n",
       "      <th>backbone</th>\n",
       "      <th>breathes</th>\n",
       "      <th>venomous</th>\n",
       "      <th>fins</th>\n",
       "      <th>legs</th>\n",
       "      <th>tail</th>\n",
       "      <th>domestic</th>\n",
       "      <th>cat-size</th>\n",
       "      <th>type</th>\n",
       "    </tr>\n",
       "  </thead>\n",
       "  <tbody>\n",
       "    <tr>\n",
       "      <th>0</th>\n",
       "      <td>antelope</td>\n",
       "      <td>1</td>\n",
       "      <td>0</td>\n",
       "      <td>0</td>\n",
       "      <td>1</td>\n",
       "      <td>0</td>\n",
       "      <td>0</td>\n",
       "      <td>0</td>\n",
       "      <td>1</td>\n",
       "      <td>1</td>\n",
       "      <td>1</td>\n",
       "      <td>0</td>\n",
       "      <td>0</td>\n",
       "      <td>4</td>\n",
       "      <td>1</td>\n",
       "      <td>0</td>\n",
       "      <td>1</td>\n",
       "      <td>1</td>\n",
       "    </tr>\n",
       "    <tr>\n",
       "      <th>1</th>\n",
       "      <td>bass</td>\n",
       "      <td>0</td>\n",
       "      <td>0</td>\n",
       "      <td>1</td>\n",
       "      <td>0</td>\n",
       "      <td>0</td>\n",
       "      <td>1</td>\n",
       "      <td>1</td>\n",
       "      <td>1</td>\n",
       "      <td>1</td>\n",
       "      <td>0</td>\n",
       "      <td>0</td>\n",
       "      <td>1</td>\n",
       "      <td>0</td>\n",
       "      <td>1</td>\n",
       "      <td>0</td>\n",
       "      <td>0</td>\n",
       "      <td>4</td>\n",
       "    </tr>\n",
       "    <tr>\n",
       "      <th>2</th>\n",
       "      <td>bear</td>\n",
       "      <td>1</td>\n",
       "      <td>0</td>\n",
       "      <td>0</td>\n",
       "      <td>1</td>\n",
       "      <td>0</td>\n",
       "      <td>0</td>\n",
       "      <td>1</td>\n",
       "      <td>1</td>\n",
       "      <td>1</td>\n",
       "      <td>1</td>\n",
       "      <td>0</td>\n",
       "      <td>0</td>\n",
       "      <td>4</td>\n",
       "      <td>0</td>\n",
       "      <td>0</td>\n",
       "      <td>1</td>\n",
       "      <td>1</td>\n",
       "    </tr>\n",
       "    <tr>\n",
       "      <th>3</th>\n",
       "      <td>boar</td>\n",
       "      <td>1</td>\n",
       "      <td>0</td>\n",
       "      <td>0</td>\n",
       "      <td>1</td>\n",
       "      <td>0</td>\n",
       "      <td>0</td>\n",
       "      <td>1</td>\n",
       "      <td>1</td>\n",
       "      <td>1</td>\n",
       "      <td>1</td>\n",
       "      <td>0</td>\n",
       "      <td>0</td>\n",
       "      <td>4</td>\n",
       "      <td>1</td>\n",
       "      <td>0</td>\n",
       "      <td>1</td>\n",
       "      <td>1</td>\n",
       "    </tr>\n",
       "    <tr>\n",
       "      <th>4</th>\n",
       "      <td>buffalo</td>\n",
       "      <td>1</td>\n",
       "      <td>0</td>\n",
       "      <td>0</td>\n",
       "      <td>1</td>\n",
       "      <td>0</td>\n",
       "      <td>0</td>\n",
       "      <td>0</td>\n",
       "      <td>1</td>\n",
       "      <td>1</td>\n",
       "      <td>1</td>\n",
       "      <td>0</td>\n",
       "      <td>0</td>\n",
       "      <td>4</td>\n",
       "      <td>1</td>\n",
       "      <td>0</td>\n",
       "      <td>1</td>\n",
       "      <td>1</td>\n",
       "    </tr>\n",
       "  </tbody>\n",
       "</table>\n",
       "</div>"
      ],
      "text/plain": [
       "  animal name  hair  feathers  eggs  milk  airborne  aquatic  predator  \\\n",
       "0    antelope     1         0     0     1         0        0         0   \n",
       "1        bass     0         0     1     0         0        1         1   \n",
       "2        bear     1         0     0     1         0        0         1   \n",
       "3        boar     1         0     0     1         0        0         1   \n",
       "4     buffalo     1         0     0     1         0        0         0   \n",
       "\n",
       "   toothed  backbone  breathes  venomous  fins  legs  tail  domestic  \\\n",
       "0        1         1         1         0     0     4     1         0   \n",
       "1        1         1         0         0     1     0     1         0   \n",
       "2        1         1         1         0     0     4     0         0   \n",
       "3        1         1         1         0     0     4     1         0   \n",
       "4        1         1         1         0     0     4     1         0   \n",
       "\n",
       "    cat-size  type  \n",
       "0          1     1  \n",
       "1          0     4  \n",
       "2          1     1  \n",
       "3          1     1  \n",
       "4          1     1  "
      ]
     },
     "execution_count": 26,
     "metadata": {},
     "output_type": "execute_result"
    }
   ],
   "source": [
    "df_zoo.head()"
   ]
  },
  {
   "cell_type": "code",
   "execution_count": 27,
   "metadata": {},
   "outputs": [
    {
     "data": {
      "text/html": [
       "\n",
       "<div id=\"altair-viz-c22c83f435654140a4385878e244b280\"></div>\n",
       "<script type=\"text/javascript\">\n",
       "  (function(spec, embedOpt){\n",
       "    let outputDiv = document.currentScript.previousElementSibling;\n",
       "    if (outputDiv.id !== \"altair-viz-c22c83f435654140a4385878e244b280\") {\n",
       "      outputDiv = document.getElementById(\"altair-viz-c22c83f435654140a4385878e244b280\");\n",
       "    }\n",
       "    const paths = {\n",
       "      \"vega\": \"https://cdn.jsdelivr.net/npm//vega@5?noext\",\n",
       "      \"vega-lib\": \"https://cdn.jsdelivr.net/npm//vega-lib?noext\",\n",
       "      \"vega-lite\": \"https://cdn.jsdelivr.net/npm//vega-lite@4.8.1?noext\",\n",
       "      \"vega-embed\": \"https://cdn.jsdelivr.net/npm//vega-embed@6?noext\",\n",
       "    };\n",
       "\n",
       "    function loadScript(lib) {\n",
       "      return new Promise(function(resolve, reject) {\n",
       "        var s = document.createElement('script');\n",
       "        s.src = paths[lib];\n",
       "        s.async = true;\n",
       "        s.onload = () => resolve(paths[lib]);\n",
       "        s.onerror = () => reject(`Error loading script: ${paths[lib]}`);\n",
       "        document.getElementsByTagName(\"head\")[0].appendChild(s);\n",
       "      });\n",
       "    }\n",
       "\n",
       "    function showError(err) {\n",
       "      outputDiv.innerHTML = `<div class=\"error\" style=\"color:red;\">${err}</div>`;\n",
       "      throw err;\n",
       "    }\n",
       "\n",
       "    function displayChart(vegaEmbed) {\n",
       "      vegaEmbed(outputDiv, spec, embedOpt)\n",
       "        .catch(err => showError(`Javascript Error: ${err.message}<br>This usually means there's a typo in your chart specification. See the javascript console for the full traceback.`));\n",
       "    }\n",
       "\n",
       "    if(typeof define === \"function\" && define.amd) {\n",
       "      requirejs.config({paths});\n",
       "      require([\"vega-embed\"], displayChart, err => showError(`Error loading script: ${err.message}`));\n",
       "    } else if (typeof vegaEmbed === \"function\") {\n",
       "      displayChart(vegaEmbed);\n",
       "    } else {\n",
       "      loadScript(\"vega\")\n",
       "        .then(() => loadScript(\"vega-lite\"))\n",
       "        .then(() => loadScript(\"vega-embed\"))\n",
       "        .catch(showError)\n",
       "        .then(() => displayChart(vegaEmbed));\n",
       "    }\n",
       "  })({\"config\": {\"view\": {\"continuousWidth\": 400, \"continuousHeight\": 300}}, \"data\": {\"name\": \"data-e3d594e206aeb1e7e4985628e88d3eb2\"}, \"mark\": \"line\", \"encoding\": {\"x\": {\"type\": \"nominal\", \"field\": \"animal name\"}, \"y\": {\"type\": \"quantitative\", \"field\": \"legs\"}}, \"$schema\": \"https://vega.github.io/schema/vega-lite/v4.8.1.json\", \"datasets\": {\"data-e3d594e206aeb1e7e4985628e88d3eb2\": [{\"animal name\": \"antelope\", \"hair\": 1, \"feathers\": 0, \"eggs\": 0, \"milk\": 1, \"airborne\": 0, \"aquatic\": 0, \"predator\": 0, \"toothed\": 1, \"backbone\": 1, \"breathes\": 1, \"venomous\": 0, \"fins\": 0, \"legs\": 4, \"tail\": 1, \"domestic\": 0, \" cat-size\": 1, \"type\": 1}, {\"animal name\": \"bass\", \"hair\": 0, \"feathers\": 0, \"eggs\": 1, \"milk\": 0, \"airborne\": 0, \"aquatic\": 1, \"predator\": 1, \"toothed\": 1, \"backbone\": 1, \"breathes\": 0, \"venomous\": 0, \"fins\": 1, \"legs\": 0, \"tail\": 1, \"domestic\": 0, \" cat-size\": 0, \"type\": 4}, {\"animal name\": \"bear\", \"hair\": 1, \"feathers\": 0, \"eggs\": 0, \"milk\": 1, \"airborne\": 0, \"aquatic\": 0, \"predator\": 1, \"toothed\": 1, \"backbone\": 1, \"breathes\": 1, \"venomous\": 0, \"fins\": 0, \"legs\": 4, \"tail\": 0, \"domestic\": 0, \" cat-size\": 1, \"type\": 1}, {\"animal name\": \"boar\", \"hair\": 1, \"feathers\": 0, \"eggs\": 0, \"milk\": 1, \"airborne\": 0, \"aquatic\": 0, \"predator\": 1, \"toothed\": 1, \"backbone\": 1, \"breathes\": 1, \"venomous\": 0, \"fins\": 0, \"legs\": 4, \"tail\": 1, \"domestic\": 0, \" cat-size\": 1, \"type\": 1}, {\"animal name\": \"buffalo\", \"hair\": 1, \"feathers\": 0, \"eggs\": 0, \"milk\": 1, \"airborne\": 0, \"aquatic\": 0, \"predator\": 0, \"toothed\": 1, \"backbone\": 1, \"breathes\": 1, \"venomous\": 0, \"fins\": 0, \"legs\": 4, \"tail\": 1, \"domestic\": 0, \" cat-size\": 1, \"type\": 1}, {\"animal name\": \"calf\", \"hair\": 1, \"feathers\": 0, \"eggs\": 0, \"milk\": 1, \"airborne\": 0, \"aquatic\": 0, \"predator\": 0, \"toothed\": 1, \"backbone\": 1, \"breathes\": 1, \"venomous\": 0, \"fins\": 0, \"legs\": 4, \"tail\": 1, \"domestic\": 1, \" cat-size\": 1, \"type\": 1}, {\"animal name\": \"carp\", \"hair\": 0, \"feathers\": 0, \"eggs\": 1, \"milk\": 0, \"airborne\": 0, \"aquatic\": 1, \"predator\": 0, \"toothed\": 1, \"backbone\": 1, \"breathes\": 0, \"venomous\": 0, \"fins\": 1, \"legs\": 0, \"tail\": 1, \"domestic\": 1, \" cat-size\": 0, \"type\": 4}, {\"animal name\": \"catfish\", \"hair\": 0, \"feathers\": 0, \"eggs\": 1, \"milk\": 0, \"airborne\": 0, \"aquatic\": 1, \"predator\": 1, \"toothed\": 1, \"backbone\": 1, \"breathes\": 0, \"venomous\": 0, \"fins\": 1, \"legs\": 0, \"tail\": 1, \"domestic\": 0, \" cat-size\": 0, \"type\": 4}, {\"animal name\": \"cavy\", \"hair\": 1, \"feathers\": 0, \"eggs\": 0, \"milk\": 1, \"airborne\": 0, \"aquatic\": 0, \"predator\": 0, \"toothed\": 1, \"backbone\": 1, \"breathes\": 1, \"venomous\": 0, \"fins\": 0, \"legs\": 4, \"tail\": 0, \"domestic\": 1, \" cat-size\": 0, \"type\": 1}, {\"animal name\": \"cheetah\", \"hair\": 1, \"feathers\": 0, \"eggs\": 0, \"milk\": 1, \"airborne\": 0, \"aquatic\": 0, \"predator\": 1, \"toothed\": 1, \"backbone\": 1, \"breathes\": 1, \"venomous\": 0, \"fins\": 0, \"legs\": 4, \"tail\": 1, \"domestic\": 0, \" cat-size\": 1, \"type\": 1}, {\"animal name\": \"chicken\", \"hair\": 0, \"feathers\": 1, \"eggs\": 1, \"milk\": 0, \"airborne\": 1, \"aquatic\": 0, \"predator\": 0, \"toothed\": 0, \"backbone\": 1, \"breathes\": 1, \"venomous\": 0, \"fins\": 0, \"legs\": 2, \"tail\": 1, \"domestic\": 1, \" cat-size\": 0, \"type\": 2}, {\"animal name\": \"chub\", \"hair\": 0, \"feathers\": 0, \"eggs\": 1, \"milk\": 0, \"airborne\": 0, \"aquatic\": 1, \"predator\": 1, \"toothed\": 1, \"backbone\": 1, \"breathes\": 0, \"venomous\": 0, \"fins\": 1, \"legs\": 0, \"tail\": 1, \"domestic\": 0, \" cat-size\": 0, \"type\": 4}, {\"animal name\": \"clam\", \"hair\": 0, \"feathers\": 0, \"eggs\": 1, \"milk\": 0, \"airborne\": 0, \"aquatic\": 0, \"predator\": 1, \"toothed\": 0, \"backbone\": 0, \"breathes\": 0, \"venomous\": 0, \"fins\": 0, \"legs\": 0, \"tail\": 0, \"domestic\": 0, \" cat-size\": 0, \"type\": 7}, {\"animal name\": \"crab\", \"hair\": 0, \"feathers\": 0, \"eggs\": 1, \"milk\": 0, \"airborne\": 0, \"aquatic\": 1, \"predator\": 1, \"toothed\": 0, \"backbone\": 0, \"breathes\": 0, \"venomous\": 0, \"fins\": 0, \"legs\": 4, \"tail\": 0, \"domestic\": 0, \" cat-size\": 0, \"type\": 7}, {\"animal name\": \"crayfish\", \"hair\": 0, \"feathers\": 0, \"eggs\": 1, \"milk\": 0, \"airborne\": 0, \"aquatic\": 1, \"predator\": 1, \"toothed\": 0, \"backbone\": 0, \"breathes\": 0, \"venomous\": 0, \"fins\": 0, \"legs\": 6, \"tail\": 0, \"domestic\": 0, \" cat-size\": 0, \"type\": 7}, {\"animal name\": \"crow\", \"hair\": 0, \"feathers\": 1, \"eggs\": 1, \"milk\": 0, \"airborne\": 1, \"aquatic\": 0, \"predator\": 1, \"toothed\": 0, \"backbone\": 1, \"breathes\": 1, \"venomous\": 0, \"fins\": 0, \"legs\": 2, \"tail\": 1, \"domestic\": 0, \" cat-size\": 0, \"type\": 2}, {\"animal name\": \"deer\", \"hair\": 1, \"feathers\": 0, \"eggs\": 0, \"milk\": 1, \"airborne\": 0, \"aquatic\": 0, \"predator\": 0, \"toothed\": 1, \"backbone\": 1, \"breathes\": 1, \"venomous\": 0, \"fins\": 0, \"legs\": 4, \"tail\": 1, \"domestic\": 0, \" cat-size\": 1, \"type\": 1}, {\"animal name\": \"dogfish\", \"hair\": 0, \"feathers\": 0, \"eggs\": 1, \"milk\": 0, \"airborne\": 0, \"aquatic\": 1, \"predator\": 1, \"toothed\": 1, \"backbone\": 1, \"breathes\": 0, \"venomous\": 0, \"fins\": 1, \"legs\": 0, \"tail\": 1, \"domestic\": 0, \" cat-size\": 1, \"type\": 4}, {\"animal name\": \"dolphin\", \"hair\": 0, \"feathers\": 0, \"eggs\": 0, \"milk\": 1, \"airborne\": 0, \"aquatic\": 1, \"predator\": 1, \"toothed\": 1, \"backbone\": 1, \"breathes\": 1, \"venomous\": 0, \"fins\": 1, \"legs\": 0, \"tail\": 1, \"domestic\": 0, \" cat-size\": 1, \"type\": 1}, {\"animal name\": \"dove\", \"hair\": 0, \"feathers\": 1, \"eggs\": 1, \"milk\": 0, \"airborne\": 1, \"aquatic\": 0, \"predator\": 0, \"toothed\": 0, \"backbone\": 1, \"breathes\": 1, \"venomous\": 0, \"fins\": 0, \"legs\": 2, \"tail\": 1, \"domestic\": 1, \" cat-size\": 0, \"type\": 2}, {\"animal name\": \"duck\", \"hair\": 0, \"feathers\": 1, \"eggs\": 1, \"milk\": 0, \"airborne\": 1, \"aquatic\": 1, \"predator\": 0, \"toothed\": 0, \"backbone\": 1, \"breathes\": 1, \"venomous\": 0, \"fins\": 0, \"legs\": 2, \"tail\": 1, \"domestic\": 0, \" cat-size\": 0, \"type\": 2}, {\"animal name\": \"elephant\", \"hair\": 1, \"feathers\": 0, \"eggs\": 0, \"milk\": 1, \"airborne\": 0, \"aquatic\": 0, \"predator\": 0, \"toothed\": 1, \"backbone\": 1, \"breathes\": 1, \"venomous\": 0, \"fins\": 0, \"legs\": 4, \"tail\": 1, \"domestic\": 0, \" cat-size\": 1, \"type\": 1}, {\"animal name\": \"flamingo\", \"hair\": 0, \"feathers\": 1, \"eggs\": 1, \"milk\": 0, \"airborne\": 1, \"aquatic\": 0, \"predator\": 0, \"toothed\": 0, \"backbone\": 1, \"breathes\": 1, \"venomous\": 0, \"fins\": 0, \"legs\": 2, \"tail\": 1, \"domestic\": 0, \" cat-size\": 1, \"type\": 2}, {\"animal name\": \"flea\", \"hair\": 0, \"feathers\": 0, \"eggs\": 1, \"milk\": 0, \"airborne\": 0, \"aquatic\": 0, \"predator\": 0, \"toothed\": 0, \"backbone\": 0, \"breathes\": 1, \"venomous\": 0, \"fins\": 0, \"legs\": 6, \"tail\": 0, \"domestic\": 0, \" cat-size\": 0, \"type\": 6}, {\"animal name\": \"frog\", \"hair\": 0, \"feathers\": 0, \"eggs\": 1, \"milk\": 0, \"airborne\": 0, \"aquatic\": 1, \"predator\": 1, \"toothed\": 1, \"backbone\": 1, \"breathes\": 1, \"venomous\": 0, \"fins\": 0, \"legs\": 4, \"tail\": 0, \"domestic\": 0, \" cat-size\": 0, \"type\": 5}, {\"animal name\": \"frog\", \"hair\": 0, \"feathers\": 0, \"eggs\": 1, \"milk\": 0, \"airborne\": 0, \"aquatic\": 1, \"predator\": 1, \"toothed\": 1, \"backbone\": 1, \"breathes\": 1, \"venomous\": 1, \"fins\": 0, \"legs\": 4, \"tail\": 0, \"domestic\": 0, \" cat-size\": 0, \"type\": 5}, {\"animal name\": \"fruitbat\", \"hair\": 1, \"feathers\": 0, \"eggs\": 0, \"milk\": 1, \"airborne\": 1, \"aquatic\": 0, \"predator\": 0, \"toothed\": 1, \"backbone\": 1, \"breathes\": 1, \"venomous\": 0, \"fins\": 0, \"legs\": 2, \"tail\": 1, \"domestic\": 0, \" cat-size\": 0, \"type\": 1}, {\"animal name\": \"giraffe\", \"hair\": 1, \"feathers\": 0, \"eggs\": 0, \"milk\": 1, \"airborne\": 0, \"aquatic\": 0, \"predator\": 0, \"toothed\": 1, \"backbone\": 1, \"breathes\": 1, \"venomous\": 0, \"fins\": 0, \"legs\": 4, \"tail\": 1, \"domestic\": 0, \" cat-size\": 1, \"type\": 1}, {\"animal name\": \"girl\", \"hair\": 1, \"feathers\": 0, \"eggs\": 0, \"milk\": 1, \"airborne\": 0, \"aquatic\": 0, \"predator\": 1, \"toothed\": 1, \"backbone\": 1, \"breathes\": 1, \"venomous\": 0, \"fins\": 0, \"legs\": 2, \"tail\": 0, \"domestic\": 1, \" cat-size\": 1, \"type\": 1}, {\"animal name\": \"gnat\", \"hair\": 0, \"feathers\": 0, \"eggs\": 1, \"milk\": 0, \"airborne\": 1, \"aquatic\": 0, \"predator\": 0, \"toothed\": 0, \"backbone\": 0, \"breathes\": 1, \"venomous\": 0, \"fins\": 0, \"legs\": 6, \"tail\": 0, \"domestic\": 0, \" cat-size\": 0, \"type\": 6}, {\"animal name\": \"goat\", \"hair\": 1, \"feathers\": 0, \"eggs\": 0, \"milk\": 1, \"airborne\": 0, \"aquatic\": 0, \"predator\": 0, \"toothed\": 1, \"backbone\": 1, \"breathes\": 1, \"venomous\": 0, \"fins\": 0, \"legs\": 4, \"tail\": 1, \"domestic\": 1, \" cat-size\": 1, \"type\": 1}, {\"animal name\": \"gorilla\", \"hair\": 1, \"feathers\": 0, \"eggs\": 0, \"milk\": 1, \"airborne\": 0, \"aquatic\": 0, \"predator\": 0, \"toothed\": 1, \"backbone\": 1, \"breathes\": 1, \"venomous\": 0, \"fins\": 0, \"legs\": 2, \"tail\": 0, \"domestic\": 0, \" cat-size\": 1, \"type\": 1}, {\"animal name\": \"gull\", \"hair\": 0, \"feathers\": 1, \"eggs\": 1, \"milk\": 0, \"airborne\": 1, \"aquatic\": 1, \"predator\": 1, \"toothed\": 0, \"backbone\": 1, \"breathes\": 1, \"venomous\": 0, \"fins\": 0, \"legs\": 2, \"tail\": 1, \"domestic\": 0, \" cat-size\": 0, \"type\": 2}, {\"animal name\": \"haddock\", \"hair\": 0, \"feathers\": 0, \"eggs\": 1, \"milk\": 0, \"airborne\": 0, \"aquatic\": 1, \"predator\": 0, \"toothed\": 1, \"backbone\": 1, \"breathes\": 0, \"venomous\": 0, \"fins\": 1, \"legs\": 0, \"tail\": 1, \"domestic\": 0, \" cat-size\": 0, \"type\": 4}, {\"animal name\": \"hamster\", \"hair\": 1, \"feathers\": 0, \"eggs\": 0, \"milk\": 1, \"airborne\": 0, \"aquatic\": 0, \"predator\": 0, \"toothed\": 1, \"backbone\": 1, \"breathes\": 1, \"venomous\": 0, \"fins\": 0, \"legs\": 4, \"tail\": 1, \"domestic\": 1, \" cat-size\": 0, \"type\": 1}, {\"animal name\": \"hare\", \"hair\": 1, \"feathers\": 0, \"eggs\": 0, \"milk\": 1, \"airborne\": 0, \"aquatic\": 0, \"predator\": 0, \"toothed\": 1, \"backbone\": 1, \"breathes\": 1, \"venomous\": 0, \"fins\": 0, \"legs\": 4, \"tail\": 1, \"domestic\": 0, \" cat-size\": 0, \"type\": 1}, {\"animal name\": \"hawk\", \"hair\": 0, \"feathers\": 1, \"eggs\": 1, \"milk\": 0, \"airborne\": 1, \"aquatic\": 0, \"predator\": 1, \"toothed\": 0, \"backbone\": 1, \"breathes\": 1, \"venomous\": 0, \"fins\": 0, \"legs\": 2, \"tail\": 1, \"domestic\": 0, \" cat-size\": 0, \"type\": 2}, {\"animal name\": \"herring\", \"hair\": 0, \"feathers\": 0, \"eggs\": 1, \"milk\": 0, \"airborne\": 0, \"aquatic\": 1, \"predator\": 1, \"toothed\": 1, \"backbone\": 1, \"breathes\": 0, \"venomous\": 0, \"fins\": 1, \"legs\": 0, \"tail\": 1, \"domestic\": 0, \" cat-size\": 0, \"type\": 4}, {\"animal name\": \"honeybee\", \"hair\": 1, \"feathers\": 0, \"eggs\": 1, \"milk\": 0, \"airborne\": 1, \"aquatic\": 0, \"predator\": 0, \"toothed\": 0, \"backbone\": 0, \"breathes\": 1, \"venomous\": 1, \"fins\": 0, \"legs\": 6, \"tail\": 0, \"domestic\": 1, \" cat-size\": 0, \"type\": 6}, {\"animal name\": \"housefly\", \"hair\": 1, \"feathers\": 0, \"eggs\": 1, \"milk\": 0, \"airborne\": 1, \"aquatic\": 0, \"predator\": 0, \"toothed\": 0, \"backbone\": 0, \"breathes\": 1, \"venomous\": 0, \"fins\": 0, \"legs\": 6, \"tail\": 0, \"domestic\": 0, \" cat-size\": 0, \"type\": 6}, {\"animal name\": \"kiwi\", \"hair\": 0, \"feathers\": 1, \"eggs\": 1, \"milk\": 0, \"airborne\": 0, \"aquatic\": 0, \"predator\": 1, \"toothed\": 0, \"backbone\": 1, \"breathes\": 1, \"venomous\": 0, \"fins\": 0, \"legs\": 2, \"tail\": 1, \"domestic\": 0, \" cat-size\": 0, \"type\": 2}, {\"animal name\": \"ladybird\", \"hair\": 0, \"feathers\": 0, \"eggs\": 1, \"milk\": 0, \"airborne\": 1, \"aquatic\": 0, \"predator\": 1, \"toothed\": 0, \"backbone\": 0, \"breathes\": 1, \"venomous\": 0, \"fins\": 0, \"legs\": 6, \"tail\": 0, \"domestic\": 0, \" cat-size\": 0, \"type\": 6}, {\"animal name\": \"lark\", \"hair\": 0, \"feathers\": 1, \"eggs\": 1, \"milk\": 0, \"airborne\": 1, \"aquatic\": 0, \"predator\": 0, \"toothed\": 0, \"backbone\": 1, \"breathes\": 1, \"venomous\": 0, \"fins\": 0, \"legs\": 2, \"tail\": 1, \"domestic\": 0, \" cat-size\": 0, \"type\": 2}, {\"animal name\": \"leopard\", \"hair\": 1, \"feathers\": 0, \"eggs\": 0, \"milk\": 1, \"airborne\": 0, \"aquatic\": 0, \"predator\": 1, \"toothed\": 1, \"backbone\": 1, \"breathes\": 1, \"venomous\": 0, \"fins\": 0, \"legs\": 4, \"tail\": 1, \"domestic\": 0, \" cat-size\": 1, \"type\": 1}, {\"animal name\": \"lion\", \"hair\": 1, \"feathers\": 0, \"eggs\": 0, \"milk\": 1, \"airborne\": 0, \"aquatic\": 0, \"predator\": 1, \"toothed\": 1, \"backbone\": 1, \"breathes\": 1, \"venomous\": 0, \"fins\": 0, \"legs\": 4, \"tail\": 1, \"domestic\": 0, \" cat-size\": 1, \"type\": 1}, {\"animal name\": \"lobster\", \"hair\": 0, \"feathers\": 0, \"eggs\": 1, \"milk\": 0, \"airborne\": 0, \"aquatic\": 1, \"predator\": 1, \"toothed\": 0, \"backbone\": 0, \"breathes\": 0, \"venomous\": 0, \"fins\": 0, \"legs\": 6, \"tail\": 0, \"domestic\": 0, \" cat-size\": 0, \"type\": 7}, {\"animal name\": \"lynx\", \"hair\": 1, \"feathers\": 0, \"eggs\": 0, \"milk\": 1, \"airborne\": 0, \"aquatic\": 0, \"predator\": 1, \"toothed\": 1, \"backbone\": 1, \"breathes\": 1, \"venomous\": 0, \"fins\": 0, \"legs\": 4, \"tail\": 1, \"domestic\": 0, \" cat-size\": 1, \"type\": 1}, {\"animal name\": \"mink\", \"hair\": 1, \"feathers\": 0, \"eggs\": 0, \"milk\": 1, \"airborne\": 0, \"aquatic\": 1, \"predator\": 1, \"toothed\": 1, \"backbone\": 1, \"breathes\": 1, \"venomous\": 0, \"fins\": 0, \"legs\": 4, \"tail\": 1, \"domestic\": 0, \" cat-size\": 1, \"type\": 1}, {\"animal name\": \"mole\", \"hair\": 1, \"feathers\": 0, \"eggs\": 0, \"milk\": 1, \"airborne\": 0, \"aquatic\": 0, \"predator\": 1, \"toothed\": 1, \"backbone\": 1, \"breathes\": 1, \"venomous\": 0, \"fins\": 0, \"legs\": 4, \"tail\": 1, \"domestic\": 0, \" cat-size\": 0, \"type\": 1}, {\"animal name\": \"mongoose\", \"hair\": 1, \"feathers\": 0, \"eggs\": 0, \"milk\": 1, \"airborne\": 0, \"aquatic\": 0, \"predator\": 1, \"toothed\": 1, \"backbone\": 1, \"breathes\": 1, \"venomous\": 0, \"fins\": 0, \"legs\": 4, \"tail\": 1, \"domestic\": 0, \" cat-size\": 1, \"type\": 1}, {\"animal name\": \"moth\", \"hair\": 1, \"feathers\": 0, \"eggs\": 1, \"milk\": 0, \"airborne\": 1, \"aquatic\": 0, \"predator\": 0, \"toothed\": 0, \"backbone\": 0, \"breathes\": 1, \"venomous\": 0, \"fins\": 0, \"legs\": 6, \"tail\": 0, \"domestic\": 0, \" cat-size\": 0, \"type\": 6}, {\"animal name\": \"newt\", \"hair\": 0, \"feathers\": 0, \"eggs\": 1, \"milk\": 0, \"airborne\": 0, \"aquatic\": 1, \"predator\": 1, \"toothed\": 1, \"backbone\": 1, \"breathes\": 1, \"venomous\": 0, \"fins\": 0, \"legs\": 4, \"tail\": 1, \"domestic\": 0, \" cat-size\": 0, \"type\": 5}, {\"animal name\": \"octopus\", \"hair\": 0, \"feathers\": 0, \"eggs\": 1, \"milk\": 0, \"airborne\": 0, \"aquatic\": 1, \"predator\": 1, \"toothed\": 0, \"backbone\": 0, \"breathes\": 0, \"venomous\": 0, \"fins\": 0, \"legs\": 8, \"tail\": 0, \"domestic\": 0, \" cat-size\": 1, \"type\": 7}, {\"animal name\": \"opossum\", \"hair\": 1, \"feathers\": 0, \"eggs\": 0, \"milk\": 1, \"airborne\": 0, \"aquatic\": 0, \"predator\": 1, \"toothed\": 1, \"backbone\": 1, \"breathes\": 1, \"venomous\": 0, \"fins\": 0, \"legs\": 4, \"tail\": 1, \"domestic\": 0, \" cat-size\": 0, \"type\": 1}, {\"animal name\": \"oryx\", \"hair\": 1, \"feathers\": 0, \"eggs\": 0, \"milk\": 1, \"airborne\": 0, \"aquatic\": 0, \"predator\": 0, \"toothed\": 1, \"backbone\": 1, \"breathes\": 1, \"venomous\": 0, \"fins\": 0, \"legs\": 4, \"tail\": 1, \"domestic\": 0, \" cat-size\": 1, \"type\": 1}, {\"animal name\": \"ostrich\", \"hair\": 0, \"feathers\": 1, \"eggs\": 1, \"milk\": 0, \"airborne\": 0, \"aquatic\": 0, \"predator\": 0, \"toothed\": 0, \"backbone\": 1, \"breathes\": 1, \"venomous\": 0, \"fins\": 0, \"legs\": 2, \"tail\": 1, \"domestic\": 0, \" cat-size\": 1, \"type\": 2}, {\"animal name\": \"parakeet\", \"hair\": 0, \"feathers\": 1, \"eggs\": 1, \"milk\": 0, \"airborne\": 1, \"aquatic\": 0, \"predator\": 0, \"toothed\": 0, \"backbone\": 1, \"breathes\": 1, \"venomous\": 0, \"fins\": 0, \"legs\": 2, \"tail\": 1, \"domestic\": 1, \" cat-size\": 0, \"type\": 2}, {\"animal name\": \"penguin\", \"hair\": 0, \"feathers\": 1, \"eggs\": 1, \"milk\": 0, \"airborne\": 0, \"aquatic\": 1, \"predator\": 1, \"toothed\": 0, \"backbone\": 1, \"breathes\": 1, \"venomous\": 0, \"fins\": 0, \"legs\": 2, \"tail\": 1, \"domestic\": 0, \" cat-size\": 1, \"type\": 2}, {\"animal name\": \"pheasant\", \"hair\": 0, \"feathers\": 1, \"eggs\": 1, \"milk\": 0, \"airborne\": 1, \"aquatic\": 0, \"predator\": 0, \"toothed\": 0, \"backbone\": 1, \"breathes\": 1, \"venomous\": 0, \"fins\": 0, \"legs\": 2, \"tail\": 1, \"domestic\": 0, \" cat-size\": 0, \"type\": 2}, {\"animal name\": \"pike\", \"hair\": 0, \"feathers\": 0, \"eggs\": 1, \"milk\": 0, \"airborne\": 0, \"aquatic\": 1, \"predator\": 1, \"toothed\": 1, \"backbone\": 1, \"breathes\": 0, \"venomous\": 0, \"fins\": 1, \"legs\": 0, \"tail\": 1, \"domestic\": 0, \" cat-size\": 1, \"type\": 4}, {\"animal name\": \"piranha\", \"hair\": 0, \"feathers\": 0, \"eggs\": 1, \"milk\": 0, \"airborne\": 0, \"aquatic\": 1, \"predator\": 1, \"toothed\": 1, \"backbone\": 1, \"breathes\": 0, \"venomous\": 0, \"fins\": 1, \"legs\": 0, \"tail\": 1, \"domestic\": 0, \" cat-size\": 0, \"type\": 4}, {\"animal name\": \"pitviper\", \"hair\": 0, \"feathers\": 0, \"eggs\": 1, \"milk\": 0, \"airborne\": 0, \"aquatic\": 0, \"predator\": 1, \"toothed\": 1, \"backbone\": 1, \"breathes\": 1, \"venomous\": 1, \"fins\": 0, \"legs\": 0, \"tail\": 1, \"domestic\": 0, \" cat-size\": 0, \"type\": 3}, {\"animal name\": \"platypus\", \"hair\": 1, \"feathers\": 0, \"eggs\": 1, \"milk\": 1, \"airborne\": 0, \"aquatic\": 1, \"predator\": 1, \"toothed\": 0, \"backbone\": 1, \"breathes\": 1, \"venomous\": 0, \"fins\": 0, \"legs\": 4, \"tail\": 1, \"domestic\": 0, \" cat-size\": 1, \"type\": 1}, {\"animal name\": \"polecat\", \"hair\": 1, \"feathers\": 0, \"eggs\": 0, \"milk\": 1, \"airborne\": 0, \"aquatic\": 0, \"predator\": 1, \"toothed\": 1, \"backbone\": 1, \"breathes\": 1, \"venomous\": 0, \"fins\": 0, \"legs\": 4, \"tail\": 1, \"domestic\": 0, \" cat-size\": 1, \"type\": 1}, {\"animal name\": \"pony\", \"hair\": 1, \"feathers\": 0, \"eggs\": 0, \"milk\": 1, \"airborne\": 0, \"aquatic\": 0, \"predator\": 0, \"toothed\": 1, \"backbone\": 1, \"breathes\": 1, \"venomous\": 0, \"fins\": 0, \"legs\": 4, \"tail\": 1, \"domestic\": 1, \" cat-size\": 1, \"type\": 1}, {\"animal name\": \"porpoise\", \"hair\": 0, \"feathers\": 0, \"eggs\": 0, \"milk\": 1, \"airborne\": 0, \"aquatic\": 1, \"predator\": 1, \"toothed\": 1, \"backbone\": 1, \"breathes\": 1, \"venomous\": 0, \"fins\": 1, \"legs\": 0, \"tail\": 1, \"domestic\": 0, \" cat-size\": 1, \"type\": 1}, {\"animal name\": \"puma\", \"hair\": 1, \"feathers\": 0, \"eggs\": 0, \"milk\": 1, \"airborne\": 0, \"aquatic\": 0, \"predator\": 1, \"toothed\": 1, \"backbone\": 1, \"breathes\": 1, \"venomous\": 0, \"fins\": 0, \"legs\": 4, \"tail\": 1, \"domestic\": 0, \" cat-size\": 1, \"type\": 1}, {\"animal name\": \"pussycat\", \"hair\": 1, \"feathers\": 0, \"eggs\": 0, \"milk\": 1, \"airborne\": 0, \"aquatic\": 0, \"predator\": 1, \"toothed\": 1, \"backbone\": 1, \"breathes\": 1, \"venomous\": 0, \"fins\": 0, \"legs\": 4, \"tail\": 1, \"domestic\": 1, \" cat-size\": 1, \"type\": 1}, {\"animal name\": \"raccoon\", \"hair\": 1, \"feathers\": 0, \"eggs\": 0, \"milk\": 1, \"airborne\": 0, \"aquatic\": 0, \"predator\": 1, \"toothed\": 1, \"backbone\": 1, \"breathes\": 1, \"venomous\": 0, \"fins\": 0, \"legs\": 4, \"tail\": 1, \"domestic\": 0, \" cat-size\": 1, \"type\": 1}, {\"animal name\": \"reindeer\", \"hair\": 1, \"feathers\": 0, \"eggs\": 0, \"milk\": 1, \"airborne\": 0, \"aquatic\": 0, \"predator\": 0, \"toothed\": 1, \"backbone\": 1, \"breathes\": 1, \"venomous\": 0, \"fins\": 0, \"legs\": 4, \"tail\": 1, \"domestic\": 1, \" cat-size\": 1, \"type\": 1}, {\"animal name\": \"rhea\", \"hair\": 0, \"feathers\": 1, \"eggs\": 1, \"milk\": 0, \"airborne\": 0, \"aquatic\": 0, \"predator\": 1, \"toothed\": 0, \"backbone\": 1, \"breathes\": 1, \"venomous\": 0, \"fins\": 0, \"legs\": 2, \"tail\": 1, \"domestic\": 0, \" cat-size\": 1, \"type\": 2}, {\"animal name\": \"scorpion\", \"hair\": 0, \"feathers\": 0, \"eggs\": 0, \"milk\": 0, \"airborne\": 0, \"aquatic\": 0, \"predator\": 1, \"toothed\": 0, \"backbone\": 0, \"breathes\": 1, \"venomous\": 1, \"fins\": 0, \"legs\": 8, \"tail\": 1, \"domestic\": 0, \" cat-size\": 0, \"type\": 7}, {\"animal name\": \"seahorse\", \"hair\": 0, \"feathers\": 0, \"eggs\": 1, \"milk\": 0, \"airborne\": 0, \"aquatic\": 1, \"predator\": 0, \"toothed\": 1, \"backbone\": 1, \"breathes\": 0, \"venomous\": 0, \"fins\": 1, \"legs\": 0, \"tail\": 1, \"domestic\": 0, \" cat-size\": 0, \"type\": 4}, {\"animal name\": \"seal\", \"hair\": 1, \"feathers\": 0, \"eggs\": 0, \"milk\": 1, \"airborne\": 0, \"aquatic\": 1, \"predator\": 1, \"toothed\": 1, \"backbone\": 1, \"breathes\": 1, \"venomous\": 0, \"fins\": 1, \"legs\": 0, \"tail\": 0, \"domestic\": 0, \" cat-size\": 1, \"type\": 1}, {\"animal name\": \"sealion\", \"hair\": 1, \"feathers\": 0, \"eggs\": 0, \"milk\": 1, \"airborne\": 0, \"aquatic\": 1, \"predator\": 1, \"toothed\": 1, \"backbone\": 1, \"breathes\": 1, \"venomous\": 0, \"fins\": 1, \"legs\": 2, \"tail\": 1, \"domestic\": 0, \" cat-size\": 1, \"type\": 1}, {\"animal name\": \"seasnake\", \"hair\": 0, \"feathers\": 0, \"eggs\": 0, \"milk\": 0, \"airborne\": 0, \"aquatic\": 1, \"predator\": 1, \"toothed\": 1, \"backbone\": 1, \"breathes\": 0, \"venomous\": 1, \"fins\": 0, \"legs\": 0, \"tail\": 1, \"domestic\": 0, \" cat-size\": 0, \"type\": 3}, {\"animal name\": \"seawasp\", \"hair\": 0, \"feathers\": 0, \"eggs\": 1, \"milk\": 0, \"airborne\": 0, \"aquatic\": 1, \"predator\": 1, \"toothed\": 0, \"backbone\": 0, \"breathes\": 0, \"venomous\": 1, \"fins\": 0, \"legs\": 0, \"tail\": 0, \"domestic\": 0, \" cat-size\": 0, \"type\": 7}, {\"animal name\": \"skimmer\", \"hair\": 0, \"feathers\": 1, \"eggs\": 1, \"milk\": 0, \"airborne\": 1, \"aquatic\": 1, \"predator\": 1, \"toothed\": 0, \"backbone\": 1, \"breathes\": 1, \"venomous\": 0, \"fins\": 0, \"legs\": 2, \"tail\": 1, \"domestic\": 0, \" cat-size\": 0, \"type\": 2}, {\"animal name\": \"skua\", \"hair\": 0, \"feathers\": 1, \"eggs\": 1, \"milk\": 0, \"airborne\": 1, \"aquatic\": 1, \"predator\": 1, \"toothed\": 0, \"backbone\": 1, \"breathes\": 1, \"venomous\": 0, \"fins\": 0, \"legs\": 2, \"tail\": 1, \"domestic\": 0, \" cat-size\": 0, \"type\": 2}, {\"animal name\": \"slowworm\", \"hair\": 0, \"feathers\": 0, \"eggs\": 1, \"milk\": 0, \"airborne\": 0, \"aquatic\": 0, \"predator\": 1, \"toothed\": 1, \"backbone\": 1, \"breathes\": 1, \"venomous\": 0, \"fins\": 0, \"legs\": 0, \"tail\": 1, \"domestic\": 0, \" cat-size\": 0, \"type\": 3}, {\"animal name\": \"slug\", \"hair\": 0, \"feathers\": 0, \"eggs\": 1, \"milk\": 0, \"airborne\": 0, \"aquatic\": 0, \"predator\": 0, \"toothed\": 0, \"backbone\": 0, \"breathes\": 1, \"venomous\": 0, \"fins\": 0, \"legs\": 0, \"tail\": 0, \"domestic\": 0, \" cat-size\": 0, \"type\": 7}, {\"animal name\": \"sole\", \"hair\": 0, \"feathers\": 0, \"eggs\": 1, \"milk\": 0, \"airborne\": 0, \"aquatic\": 1, \"predator\": 0, \"toothed\": 1, \"backbone\": 1, \"breathes\": 0, \"venomous\": 0, \"fins\": 1, \"legs\": 0, \"tail\": 1, \"domestic\": 0, \" cat-size\": 0, \"type\": 4}, {\"animal name\": \"sparrow\", \"hair\": 0, \"feathers\": 1, \"eggs\": 1, \"milk\": 0, \"airborne\": 1, \"aquatic\": 0, \"predator\": 0, \"toothed\": 0, \"backbone\": 1, \"breathes\": 1, \"venomous\": 0, \"fins\": 0, \"legs\": 2, \"tail\": 1, \"domestic\": 0, \" cat-size\": 0, \"type\": 2}, {\"animal name\": \"squirrel\", \"hair\": 1, \"feathers\": 0, \"eggs\": 0, \"milk\": 1, \"airborne\": 0, \"aquatic\": 0, \"predator\": 0, \"toothed\": 1, \"backbone\": 1, \"breathes\": 1, \"venomous\": 0, \"fins\": 0, \"legs\": 2, \"tail\": 1, \"domestic\": 0, \" cat-size\": 0, \"type\": 1}, {\"animal name\": \"starfish\", \"hair\": 0, \"feathers\": 0, \"eggs\": 1, \"milk\": 0, \"airborne\": 0, \"aquatic\": 1, \"predator\": 1, \"toothed\": 0, \"backbone\": 0, \"breathes\": 0, \"venomous\": 0, \"fins\": 0, \"legs\": 5, \"tail\": 0, \"domestic\": 0, \" cat-size\": 0, \"type\": 7}, {\"animal name\": \"stingray\", \"hair\": 0, \"feathers\": 0, \"eggs\": 1, \"milk\": 0, \"airborne\": 0, \"aquatic\": 1, \"predator\": 1, \"toothed\": 1, \"backbone\": 1, \"breathes\": 0, \"venomous\": 1, \"fins\": 1, \"legs\": 0, \"tail\": 1, \"domestic\": 0, \" cat-size\": 1, \"type\": 4}, {\"animal name\": \"swan\", \"hair\": 0, \"feathers\": 1, \"eggs\": 1, \"milk\": 0, \"airborne\": 1, \"aquatic\": 1, \"predator\": 0, \"toothed\": 0, \"backbone\": 1, \"breathes\": 1, \"venomous\": 0, \"fins\": 0, \"legs\": 2, \"tail\": 1, \"domestic\": 0, \" cat-size\": 1, \"type\": 2}, {\"animal name\": \"termite\", \"hair\": 0, \"feathers\": 0, \"eggs\": 1, \"milk\": 0, \"airborne\": 0, \"aquatic\": 0, \"predator\": 0, \"toothed\": 0, \"backbone\": 0, \"breathes\": 1, \"venomous\": 0, \"fins\": 0, \"legs\": 6, \"tail\": 0, \"domestic\": 0, \" cat-size\": 0, \"type\": 6}, {\"animal name\": \"toad\", \"hair\": 0, \"feathers\": 0, \"eggs\": 1, \"milk\": 0, \"airborne\": 0, \"aquatic\": 1, \"predator\": 0, \"toothed\": 1, \"backbone\": 1, \"breathes\": 1, \"venomous\": 0, \"fins\": 0, \"legs\": 4, \"tail\": 0, \"domestic\": 0, \" cat-size\": 0, \"type\": 5}, {\"animal name\": \"tortoise\", \"hair\": 0, \"feathers\": 0, \"eggs\": 1, \"milk\": 0, \"airborne\": 0, \"aquatic\": 0, \"predator\": 0, \"toothed\": 0, \"backbone\": 1, \"breathes\": 1, \"venomous\": 0, \"fins\": 0, \"legs\": 4, \"tail\": 1, \"domestic\": 0, \" cat-size\": 1, \"type\": 3}, {\"animal name\": \"tuatara\", \"hair\": 0, \"feathers\": 0, \"eggs\": 1, \"milk\": 0, \"airborne\": 0, \"aquatic\": 0, \"predator\": 1, \"toothed\": 1, \"backbone\": 1, \"breathes\": 1, \"venomous\": 0, \"fins\": 0, \"legs\": 4, \"tail\": 1, \"domestic\": 0, \" cat-size\": 0, \"type\": 3}, {\"animal name\": \"tuna\", \"hair\": 0, \"feathers\": 0, \"eggs\": 1, \"milk\": 0, \"airborne\": 0, \"aquatic\": 1, \"predator\": 1, \"toothed\": 1, \"backbone\": 1, \"breathes\": 0, \"venomous\": 0, \"fins\": 1, \"legs\": 0, \"tail\": 1, \"domestic\": 0, \" cat-size\": 1, \"type\": 4}, {\"animal name\": \"vampire\", \"hair\": 1, \"feathers\": 0, \"eggs\": 0, \"milk\": 1, \"airborne\": 1, \"aquatic\": 0, \"predator\": 0, \"toothed\": 1, \"backbone\": 1, \"breathes\": 1, \"venomous\": 0, \"fins\": 0, \"legs\": 2, \"tail\": 1, \"domestic\": 0, \" cat-size\": 0, \"type\": 1}, {\"animal name\": \"vole\", \"hair\": 1, \"feathers\": 0, \"eggs\": 0, \"milk\": 1, \"airborne\": 0, \"aquatic\": 0, \"predator\": 0, \"toothed\": 1, \"backbone\": 1, \"breathes\": 1, \"venomous\": 0, \"fins\": 0, \"legs\": 4, \"tail\": 1, \"domestic\": 0, \" cat-size\": 0, \"type\": 1}, {\"animal name\": \"vulture\", \"hair\": 0, \"feathers\": 1, \"eggs\": 1, \"milk\": 0, \"airborne\": 1, \"aquatic\": 0, \"predator\": 1, \"toothed\": 0, \"backbone\": 1, \"breathes\": 1, \"venomous\": 0, \"fins\": 0, \"legs\": 2, \"tail\": 1, \"domestic\": 0, \" cat-size\": 1, \"type\": 2}, {\"animal name\": \"wallaby\", \"hair\": 1, \"feathers\": 0, \"eggs\": 0, \"milk\": 1, \"airborne\": 0, \"aquatic\": 0, \"predator\": 0, \"toothed\": 1, \"backbone\": 1, \"breathes\": 1, \"venomous\": 0, \"fins\": 0, \"legs\": 2, \"tail\": 1, \"domestic\": 0, \" cat-size\": 1, \"type\": 1}, {\"animal name\": \"wasp\", \"hair\": 1, \"feathers\": 0, \"eggs\": 1, \"milk\": 0, \"airborne\": 1, \"aquatic\": 0, \"predator\": 0, \"toothed\": 0, \"backbone\": 0, \"breathes\": 1, \"venomous\": 1, \"fins\": 0, \"legs\": 6, \"tail\": 0, \"domestic\": 0, \" cat-size\": 0, \"type\": 6}, {\"animal name\": \"wolf\", \"hair\": 1, \"feathers\": 0, \"eggs\": 0, \"milk\": 1, \"airborne\": 0, \"aquatic\": 0, \"predator\": 1, \"toothed\": 1, \"backbone\": 1, \"breathes\": 1, \"venomous\": 0, \"fins\": 0, \"legs\": 4, \"tail\": 1, \"domestic\": 0, \" cat-size\": 1, \"type\": 1}, {\"animal name\": \"worm\", \"hair\": 0, \"feathers\": 0, \"eggs\": 1, \"milk\": 0, \"airborne\": 0, \"aquatic\": 0, \"predator\": 0, \"toothed\": 0, \"backbone\": 0, \"breathes\": 1, \"venomous\": 0, \"fins\": 0, \"legs\": 0, \"tail\": 0, \"domestic\": 0, \" cat-size\": 0, \"type\": 7}, {\"animal name\": \"wren\", \"hair\": 0, \"feathers\": 1, \"eggs\": 1, \"milk\": 0, \"airborne\": 1, \"aquatic\": 0, \"predator\": 0, \"toothed\": 0, \"backbone\": 1, \"breathes\": 1, \"venomous\": 0, \"fins\": 0, \"legs\": 2, \"tail\": 1, \"domestic\": 0, \" cat-size\": 0, \"type\": 2}]}}, {\"mode\": \"vega-lite\"});\n",
       "</script>"
      ],
      "text/plain": [
       "alt.Chart(...)"
      ]
     },
     "execution_count": 27,
     "metadata": {},
     "output_type": "execute_result"
    }
   ],
   "source": [
    "plot1 = alt.Chart(df_zoo).mark_line().encode(\n",
    "    x = 'animal name',\n",
    "    y = 'legs'\n",
    ")\n",
    "plot1"
   ]
  },
  {
   "cell_type": "code",
   "execution_count": 28,
   "metadata": {},
   "outputs": [
    {
     "data": {
      "text/html": [
       "\n",
       "<div id=\"altair-viz-95b3b36e440c433e93f3ff385aa043b7\"></div>\n",
       "<script type=\"text/javascript\">\n",
       "  (function(spec, embedOpt){\n",
       "    let outputDiv = document.currentScript.previousElementSibling;\n",
       "    if (outputDiv.id !== \"altair-viz-95b3b36e440c433e93f3ff385aa043b7\") {\n",
       "      outputDiv = document.getElementById(\"altair-viz-95b3b36e440c433e93f3ff385aa043b7\");\n",
       "    }\n",
       "    const paths = {\n",
       "      \"vega\": \"https://cdn.jsdelivr.net/npm//vega@5?noext\",\n",
       "      \"vega-lib\": \"https://cdn.jsdelivr.net/npm//vega-lib?noext\",\n",
       "      \"vega-lite\": \"https://cdn.jsdelivr.net/npm//vega-lite@4.8.1?noext\",\n",
       "      \"vega-embed\": \"https://cdn.jsdelivr.net/npm//vega-embed@6?noext\",\n",
       "    };\n",
       "\n",
       "    function loadScript(lib) {\n",
       "      return new Promise(function(resolve, reject) {\n",
       "        var s = document.createElement('script');\n",
       "        s.src = paths[lib];\n",
       "        s.async = true;\n",
       "        s.onload = () => resolve(paths[lib]);\n",
       "        s.onerror = () => reject(`Error loading script: ${paths[lib]}`);\n",
       "        document.getElementsByTagName(\"head\")[0].appendChild(s);\n",
       "      });\n",
       "    }\n",
       "\n",
       "    function showError(err) {\n",
       "      outputDiv.innerHTML = `<div class=\"error\" style=\"color:red;\">${err}</div>`;\n",
       "      throw err;\n",
       "    }\n",
       "\n",
       "    function displayChart(vegaEmbed) {\n",
       "      vegaEmbed(outputDiv, spec, embedOpt)\n",
       "        .catch(err => showError(`Javascript Error: ${err.message}<br>This usually means there's a typo in your chart specification. See the javascript console for the full traceback.`));\n",
       "    }\n",
       "\n",
       "    if(typeof define === \"function\" && define.amd) {\n",
       "      requirejs.config({paths});\n",
       "      require([\"vega-embed\"], displayChart, err => showError(`Error loading script: ${err.message}`));\n",
       "    } else if (typeof vegaEmbed === \"function\") {\n",
       "      displayChart(vegaEmbed);\n",
       "    } else {\n",
       "      loadScript(\"vega\")\n",
       "        .then(() => loadScript(\"vega-lite\"))\n",
       "        .then(() => loadScript(\"vega-embed\"))\n",
       "        .catch(showError)\n",
       "        .then(() => displayChart(vegaEmbed));\n",
       "    }\n",
       "  })({\"config\": {\"view\": {\"continuousWidth\": 400, \"continuousHeight\": 300}}, \"data\": {\"name\": \"data-e3d594e206aeb1e7e4985628e88d3eb2\"}, \"mark\": \"bar\", \"encoding\": {\"x\": {\"type\": \"nominal\", \"field\": \"animal name\"}, \"y\": {\"type\": \"quantitative\", \"field\": \"legs\"}}, \"$schema\": \"https://vega.github.io/schema/vega-lite/v4.8.1.json\", \"datasets\": {\"data-e3d594e206aeb1e7e4985628e88d3eb2\": [{\"animal name\": \"antelope\", \"hair\": 1, \"feathers\": 0, \"eggs\": 0, \"milk\": 1, \"airborne\": 0, \"aquatic\": 0, \"predator\": 0, \"toothed\": 1, \"backbone\": 1, \"breathes\": 1, \"venomous\": 0, \"fins\": 0, \"legs\": 4, \"tail\": 1, \"domestic\": 0, \" cat-size\": 1, \"type\": 1}, {\"animal name\": \"bass\", \"hair\": 0, \"feathers\": 0, \"eggs\": 1, \"milk\": 0, \"airborne\": 0, \"aquatic\": 1, \"predator\": 1, \"toothed\": 1, \"backbone\": 1, \"breathes\": 0, \"venomous\": 0, \"fins\": 1, \"legs\": 0, \"tail\": 1, \"domestic\": 0, \" cat-size\": 0, \"type\": 4}, {\"animal name\": \"bear\", \"hair\": 1, \"feathers\": 0, \"eggs\": 0, \"milk\": 1, \"airborne\": 0, \"aquatic\": 0, \"predator\": 1, \"toothed\": 1, \"backbone\": 1, \"breathes\": 1, \"venomous\": 0, \"fins\": 0, \"legs\": 4, \"tail\": 0, \"domestic\": 0, \" cat-size\": 1, \"type\": 1}, {\"animal name\": \"boar\", \"hair\": 1, \"feathers\": 0, \"eggs\": 0, \"milk\": 1, \"airborne\": 0, \"aquatic\": 0, \"predator\": 1, \"toothed\": 1, \"backbone\": 1, \"breathes\": 1, \"venomous\": 0, \"fins\": 0, \"legs\": 4, \"tail\": 1, \"domestic\": 0, \" cat-size\": 1, \"type\": 1}, {\"animal name\": \"buffalo\", \"hair\": 1, \"feathers\": 0, \"eggs\": 0, \"milk\": 1, \"airborne\": 0, \"aquatic\": 0, \"predator\": 0, \"toothed\": 1, \"backbone\": 1, \"breathes\": 1, \"venomous\": 0, \"fins\": 0, \"legs\": 4, \"tail\": 1, \"domestic\": 0, \" cat-size\": 1, \"type\": 1}, {\"animal name\": \"calf\", \"hair\": 1, \"feathers\": 0, \"eggs\": 0, \"milk\": 1, \"airborne\": 0, \"aquatic\": 0, \"predator\": 0, \"toothed\": 1, \"backbone\": 1, \"breathes\": 1, \"venomous\": 0, \"fins\": 0, \"legs\": 4, \"tail\": 1, \"domestic\": 1, \" cat-size\": 1, \"type\": 1}, {\"animal name\": \"carp\", \"hair\": 0, \"feathers\": 0, \"eggs\": 1, \"milk\": 0, \"airborne\": 0, \"aquatic\": 1, \"predator\": 0, \"toothed\": 1, \"backbone\": 1, \"breathes\": 0, \"venomous\": 0, \"fins\": 1, \"legs\": 0, \"tail\": 1, \"domestic\": 1, \" cat-size\": 0, \"type\": 4}, {\"animal name\": \"catfish\", \"hair\": 0, \"feathers\": 0, \"eggs\": 1, \"milk\": 0, \"airborne\": 0, \"aquatic\": 1, \"predator\": 1, \"toothed\": 1, \"backbone\": 1, \"breathes\": 0, \"venomous\": 0, \"fins\": 1, \"legs\": 0, \"tail\": 1, \"domestic\": 0, \" cat-size\": 0, \"type\": 4}, {\"animal name\": \"cavy\", \"hair\": 1, \"feathers\": 0, \"eggs\": 0, \"milk\": 1, \"airborne\": 0, \"aquatic\": 0, \"predator\": 0, \"toothed\": 1, \"backbone\": 1, \"breathes\": 1, \"venomous\": 0, \"fins\": 0, \"legs\": 4, \"tail\": 0, \"domestic\": 1, \" cat-size\": 0, \"type\": 1}, {\"animal name\": \"cheetah\", \"hair\": 1, \"feathers\": 0, \"eggs\": 0, \"milk\": 1, \"airborne\": 0, \"aquatic\": 0, \"predator\": 1, \"toothed\": 1, \"backbone\": 1, \"breathes\": 1, \"venomous\": 0, \"fins\": 0, \"legs\": 4, \"tail\": 1, \"domestic\": 0, \" cat-size\": 1, \"type\": 1}, {\"animal name\": \"chicken\", \"hair\": 0, \"feathers\": 1, \"eggs\": 1, \"milk\": 0, \"airborne\": 1, \"aquatic\": 0, \"predator\": 0, \"toothed\": 0, \"backbone\": 1, \"breathes\": 1, \"venomous\": 0, \"fins\": 0, \"legs\": 2, \"tail\": 1, \"domestic\": 1, \" cat-size\": 0, \"type\": 2}, {\"animal name\": \"chub\", \"hair\": 0, \"feathers\": 0, \"eggs\": 1, \"milk\": 0, \"airborne\": 0, \"aquatic\": 1, \"predator\": 1, \"toothed\": 1, \"backbone\": 1, \"breathes\": 0, \"venomous\": 0, \"fins\": 1, \"legs\": 0, \"tail\": 1, \"domestic\": 0, \" cat-size\": 0, \"type\": 4}, {\"animal name\": \"clam\", \"hair\": 0, \"feathers\": 0, \"eggs\": 1, \"milk\": 0, \"airborne\": 0, \"aquatic\": 0, \"predator\": 1, \"toothed\": 0, \"backbone\": 0, \"breathes\": 0, \"venomous\": 0, \"fins\": 0, \"legs\": 0, \"tail\": 0, \"domestic\": 0, \" cat-size\": 0, \"type\": 7}, {\"animal name\": \"crab\", \"hair\": 0, \"feathers\": 0, \"eggs\": 1, \"milk\": 0, \"airborne\": 0, \"aquatic\": 1, \"predator\": 1, \"toothed\": 0, \"backbone\": 0, \"breathes\": 0, \"venomous\": 0, \"fins\": 0, \"legs\": 4, \"tail\": 0, \"domestic\": 0, \" cat-size\": 0, \"type\": 7}, {\"animal name\": \"crayfish\", \"hair\": 0, \"feathers\": 0, \"eggs\": 1, \"milk\": 0, \"airborne\": 0, \"aquatic\": 1, \"predator\": 1, \"toothed\": 0, \"backbone\": 0, \"breathes\": 0, \"venomous\": 0, \"fins\": 0, \"legs\": 6, \"tail\": 0, \"domestic\": 0, \" cat-size\": 0, \"type\": 7}, {\"animal name\": \"crow\", \"hair\": 0, \"feathers\": 1, \"eggs\": 1, \"milk\": 0, \"airborne\": 1, \"aquatic\": 0, \"predator\": 1, \"toothed\": 0, \"backbone\": 1, \"breathes\": 1, \"venomous\": 0, \"fins\": 0, \"legs\": 2, \"tail\": 1, \"domestic\": 0, \" cat-size\": 0, \"type\": 2}, {\"animal name\": \"deer\", \"hair\": 1, \"feathers\": 0, \"eggs\": 0, \"milk\": 1, \"airborne\": 0, \"aquatic\": 0, \"predator\": 0, \"toothed\": 1, \"backbone\": 1, \"breathes\": 1, \"venomous\": 0, \"fins\": 0, \"legs\": 4, \"tail\": 1, \"domestic\": 0, \" cat-size\": 1, \"type\": 1}, {\"animal name\": \"dogfish\", \"hair\": 0, \"feathers\": 0, \"eggs\": 1, \"milk\": 0, \"airborne\": 0, \"aquatic\": 1, \"predator\": 1, \"toothed\": 1, \"backbone\": 1, \"breathes\": 0, \"venomous\": 0, \"fins\": 1, \"legs\": 0, \"tail\": 1, \"domestic\": 0, \" cat-size\": 1, \"type\": 4}, {\"animal name\": \"dolphin\", \"hair\": 0, \"feathers\": 0, \"eggs\": 0, \"milk\": 1, \"airborne\": 0, \"aquatic\": 1, \"predator\": 1, \"toothed\": 1, \"backbone\": 1, \"breathes\": 1, \"venomous\": 0, \"fins\": 1, \"legs\": 0, \"tail\": 1, \"domestic\": 0, \" cat-size\": 1, \"type\": 1}, {\"animal name\": \"dove\", \"hair\": 0, \"feathers\": 1, \"eggs\": 1, \"milk\": 0, \"airborne\": 1, \"aquatic\": 0, \"predator\": 0, \"toothed\": 0, \"backbone\": 1, \"breathes\": 1, \"venomous\": 0, \"fins\": 0, \"legs\": 2, \"tail\": 1, \"domestic\": 1, \" cat-size\": 0, \"type\": 2}, {\"animal name\": \"duck\", \"hair\": 0, \"feathers\": 1, \"eggs\": 1, \"milk\": 0, \"airborne\": 1, \"aquatic\": 1, \"predator\": 0, \"toothed\": 0, \"backbone\": 1, \"breathes\": 1, \"venomous\": 0, \"fins\": 0, \"legs\": 2, \"tail\": 1, \"domestic\": 0, \" cat-size\": 0, \"type\": 2}, {\"animal name\": \"elephant\", \"hair\": 1, \"feathers\": 0, \"eggs\": 0, \"milk\": 1, \"airborne\": 0, \"aquatic\": 0, \"predator\": 0, \"toothed\": 1, \"backbone\": 1, \"breathes\": 1, \"venomous\": 0, \"fins\": 0, \"legs\": 4, \"tail\": 1, \"domestic\": 0, \" cat-size\": 1, \"type\": 1}, {\"animal name\": \"flamingo\", \"hair\": 0, \"feathers\": 1, \"eggs\": 1, \"milk\": 0, \"airborne\": 1, \"aquatic\": 0, \"predator\": 0, \"toothed\": 0, \"backbone\": 1, \"breathes\": 1, \"venomous\": 0, \"fins\": 0, \"legs\": 2, \"tail\": 1, \"domestic\": 0, \" cat-size\": 1, \"type\": 2}, {\"animal name\": \"flea\", \"hair\": 0, \"feathers\": 0, \"eggs\": 1, \"milk\": 0, \"airborne\": 0, \"aquatic\": 0, \"predator\": 0, \"toothed\": 0, \"backbone\": 0, \"breathes\": 1, \"venomous\": 0, \"fins\": 0, \"legs\": 6, \"tail\": 0, \"domestic\": 0, \" cat-size\": 0, \"type\": 6}, {\"animal name\": \"frog\", \"hair\": 0, \"feathers\": 0, \"eggs\": 1, \"milk\": 0, \"airborne\": 0, \"aquatic\": 1, \"predator\": 1, \"toothed\": 1, \"backbone\": 1, \"breathes\": 1, \"venomous\": 0, \"fins\": 0, \"legs\": 4, \"tail\": 0, \"domestic\": 0, \" cat-size\": 0, \"type\": 5}, {\"animal name\": \"frog\", \"hair\": 0, \"feathers\": 0, \"eggs\": 1, \"milk\": 0, \"airborne\": 0, \"aquatic\": 1, \"predator\": 1, \"toothed\": 1, \"backbone\": 1, \"breathes\": 1, \"venomous\": 1, \"fins\": 0, \"legs\": 4, \"tail\": 0, \"domestic\": 0, \" cat-size\": 0, \"type\": 5}, {\"animal name\": \"fruitbat\", \"hair\": 1, \"feathers\": 0, \"eggs\": 0, \"milk\": 1, \"airborne\": 1, \"aquatic\": 0, \"predator\": 0, \"toothed\": 1, \"backbone\": 1, \"breathes\": 1, \"venomous\": 0, \"fins\": 0, \"legs\": 2, \"tail\": 1, \"domestic\": 0, \" cat-size\": 0, \"type\": 1}, {\"animal name\": \"giraffe\", \"hair\": 1, \"feathers\": 0, \"eggs\": 0, \"milk\": 1, \"airborne\": 0, \"aquatic\": 0, \"predator\": 0, \"toothed\": 1, \"backbone\": 1, \"breathes\": 1, \"venomous\": 0, \"fins\": 0, \"legs\": 4, \"tail\": 1, \"domestic\": 0, \" cat-size\": 1, \"type\": 1}, {\"animal name\": \"girl\", \"hair\": 1, \"feathers\": 0, \"eggs\": 0, \"milk\": 1, \"airborne\": 0, \"aquatic\": 0, \"predator\": 1, \"toothed\": 1, \"backbone\": 1, \"breathes\": 1, \"venomous\": 0, \"fins\": 0, \"legs\": 2, \"tail\": 0, \"domestic\": 1, \" cat-size\": 1, \"type\": 1}, {\"animal name\": \"gnat\", \"hair\": 0, \"feathers\": 0, \"eggs\": 1, \"milk\": 0, \"airborne\": 1, \"aquatic\": 0, \"predator\": 0, \"toothed\": 0, \"backbone\": 0, \"breathes\": 1, \"venomous\": 0, \"fins\": 0, \"legs\": 6, \"tail\": 0, \"domestic\": 0, \" cat-size\": 0, \"type\": 6}, {\"animal name\": \"goat\", \"hair\": 1, \"feathers\": 0, \"eggs\": 0, \"milk\": 1, \"airborne\": 0, \"aquatic\": 0, \"predator\": 0, \"toothed\": 1, \"backbone\": 1, \"breathes\": 1, \"venomous\": 0, \"fins\": 0, \"legs\": 4, \"tail\": 1, \"domestic\": 1, \" cat-size\": 1, \"type\": 1}, {\"animal name\": \"gorilla\", \"hair\": 1, \"feathers\": 0, \"eggs\": 0, \"milk\": 1, \"airborne\": 0, \"aquatic\": 0, \"predator\": 0, \"toothed\": 1, \"backbone\": 1, \"breathes\": 1, \"venomous\": 0, \"fins\": 0, \"legs\": 2, \"tail\": 0, \"domestic\": 0, \" cat-size\": 1, \"type\": 1}, {\"animal name\": \"gull\", \"hair\": 0, \"feathers\": 1, \"eggs\": 1, \"milk\": 0, \"airborne\": 1, \"aquatic\": 1, \"predator\": 1, \"toothed\": 0, \"backbone\": 1, \"breathes\": 1, \"venomous\": 0, \"fins\": 0, \"legs\": 2, \"tail\": 1, \"domestic\": 0, \" cat-size\": 0, \"type\": 2}, {\"animal name\": \"haddock\", \"hair\": 0, \"feathers\": 0, \"eggs\": 1, \"milk\": 0, \"airborne\": 0, \"aquatic\": 1, \"predator\": 0, \"toothed\": 1, \"backbone\": 1, \"breathes\": 0, \"venomous\": 0, \"fins\": 1, \"legs\": 0, \"tail\": 1, \"domestic\": 0, \" cat-size\": 0, \"type\": 4}, {\"animal name\": \"hamster\", \"hair\": 1, \"feathers\": 0, \"eggs\": 0, \"milk\": 1, \"airborne\": 0, \"aquatic\": 0, \"predator\": 0, \"toothed\": 1, \"backbone\": 1, \"breathes\": 1, \"venomous\": 0, \"fins\": 0, \"legs\": 4, \"tail\": 1, \"domestic\": 1, \" cat-size\": 0, \"type\": 1}, {\"animal name\": \"hare\", \"hair\": 1, \"feathers\": 0, \"eggs\": 0, \"milk\": 1, \"airborne\": 0, \"aquatic\": 0, \"predator\": 0, \"toothed\": 1, \"backbone\": 1, \"breathes\": 1, \"venomous\": 0, \"fins\": 0, \"legs\": 4, \"tail\": 1, \"domestic\": 0, \" cat-size\": 0, \"type\": 1}, {\"animal name\": \"hawk\", \"hair\": 0, \"feathers\": 1, \"eggs\": 1, \"milk\": 0, \"airborne\": 1, \"aquatic\": 0, \"predator\": 1, \"toothed\": 0, \"backbone\": 1, \"breathes\": 1, \"venomous\": 0, \"fins\": 0, \"legs\": 2, \"tail\": 1, \"domestic\": 0, \" cat-size\": 0, \"type\": 2}, {\"animal name\": \"herring\", \"hair\": 0, \"feathers\": 0, \"eggs\": 1, \"milk\": 0, \"airborne\": 0, \"aquatic\": 1, \"predator\": 1, \"toothed\": 1, \"backbone\": 1, \"breathes\": 0, \"venomous\": 0, \"fins\": 1, \"legs\": 0, \"tail\": 1, \"domestic\": 0, \" cat-size\": 0, \"type\": 4}, {\"animal name\": \"honeybee\", \"hair\": 1, \"feathers\": 0, \"eggs\": 1, \"milk\": 0, \"airborne\": 1, \"aquatic\": 0, \"predator\": 0, \"toothed\": 0, \"backbone\": 0, \"breathes\": 1, \"venomous\": 1, \"fins\": 0, \"legs\": 6, \"tail\": 0, \"domestic\": 1, \" cat-size\": 0, \"type\": 6}, {\"animal name\": \"housefly\", \"hair\": 1, \"feathers\": 0, \"eggs\": 1, \"milk\": 0, \"airborne\": 1, \"aquatic\": 0, \"predator\": 0, \"toothed\": 0, \"backbone\": 0, \"breathes\": 1, \"venomous\": 0, \"fins\": 0, \"legs\": 6, \"tail\": 0, \"domestic\": 0, \" cat-size\": 0, \"type\": 6}, {\"animal name\": \"kiwi\", \"hair\": 0, \"feathers\": 1, \"eggs\": 1, \"milk\": 0, \"airborne\": 0, \"aquatic\": 0, \"predator\": 1, \"toothed\": 0, \"backbone\": 1, \"breathes\": 1, \"venomous\": 0, \"fins\": 0, \"legs\": 2, \"tail\": 1, \"domestic\": 0, \" cat-size\": 0, \"type\": 2}, {\"animal name\": \"ladybird\", \"hair\": 0, \"feathers\": 0, \"eggs\": 1, \"milk\": 0, \"airborne\": 1, \"aquatic\": 0, \"predator\": 1, \"toothed\": 0, \"backbone\": 0, \"breathes\": 1, \"venomous\": 0, \"fins\": 0, \"legs\": 6, \"tail\": 0, \"domestic\": 0, \" cat-size\": 0, \"type\": 6}, {\"animal name\": \"lark\", \"hair\": 0, \"feathers\": 1, \"eggs\": 1, \"milk\": 0, \"airborne\": 1, \"aquatic\": 0, \"predator\": 0, \"toothed\": 0, \"backbone\": 1, \"breathes\": 1, \"venomous\": 0, \"fins\": 0, \"legs\": 2, \"tail\": 1, \"domestic\": 0, \" cat-size\": 0, \"type\": 2}, {\"animal name\": \"leopard\", \"hair\": 1, \"feathers\": 0, \"eggs\": 0, \"milk\": 1, \"airborne\": 0, \"aquatic\": 0, \"predator\": 1, \"toothed\": 1, \"backbone\": 1, \"breathes\": 1, \"venomous\": 0, \"fins\": 0, \"legs\": 4, \"tail\": 1, \"domestic\": 0, \" cat-size\": 1, \"type\": 1}, {\"animal name\": \"lion\", \"hair\": 1, \"feathers\": 0, \"eggs\": 0, \"milk\": 1, \"airborne\": 0, \"aquatic\": 0, \"predator\": 1, \"toothed\": 1, \"backbone\": 1, \"breathes\": 1, \"venomous\": 0, \"fins\": 0, \"legs\": 4, \"tail\": 1, \"domestic\": 0, \" cat-size\": 1, \"type\": 1}, {\"animal name\": \"lobster\", \"hair\": 0, \"feathers\": 0, \"eggs\": 1, \"milk\": 0, \"airborne\": 0, \"aquatic\": 1, \"predator\": 1, \"toothed\": 0, \"backbone\": 0, \"breathes\": 0, \"venomous\": 0, \"fins\": 0, \"legs\": 6, \"tail\": 0, \"domestic\": 0, \" cat-size\": 0, \"type\": 7}, {\"animal name\": \"lynx\", \"hair\": 1, \"feathers\": 0, \"eggs\": 0, \"milk\": 1, \"airborne\": 0, \"aquatic\": 0, \"predator\": 1, \"toothed\": 1, \"backbone\": 1, \"breathes\": 1, \"venomous\": 0, \"fins\": 0, \"legs\": 4, \"tail\": 1, \"domestic\": 0, \" cat-size\": 1, \"type\": 1}, {\"animal name\": \"mink\", \"hair\": 1, \"feathers\": 0, \"eggs\": 0, \"milk\": 1, \"airborne\": 0, \"aquatic\": 1, \"predator\": 1, \"toothed\": 1, \"backbone\": 1, \"breathes\": 1, \"venomous\": 0, \"fins\": 0, \"legs\": 4, \"tail\": 1, \"domestic\": 0, \" cat-size\": 1, \"type\": 1}, {\"animal name\": \"mole\", \"hair\": 1, \"feathers\": 0, \"eggs\": 0, \"milk\": 1, \"airborne\": 0, \"aquatic\": 0, \"predator\": 1, \"toothed\": 1, \"backbone\": 1, \"breathes\": 1, \"venomous\": 0, \"fins\": 0, \"legs\": 4, \"tail\": 1, \"domestic\": 0, \" cat-size\": 0, \"type\": 1}, {\"animal name\": \"mongoose\", \"hair\": 1, \"feathers\": 0, \"eggs\": 0, \"milk\": 1, \"airborne\": 0, \"aquatic\": 0, \"predator\": 1, \"toothed\": 1, \"backbone\": 1, \"breathes\": 1, \"venomous\": 0, \"fins\": 0, \"legs\": 4, \"tail\": 1, \"domestic\": 0, \" cat-size\": 1, \"type\": 1}, {\"animal name\": \"moth\", \"hair\": 1, \"feathers\": 0, \"eggs\": 1, \"milk\": 0, \"airborne\": 1, \"aquatic\": 0, \"predator\": 0, \"toothed\": 0, \"backbone\": 0, \"breathes\": 1, \"venomous\": 0, \"fins\": 0, \"legs\": 6, \"tail\": 0, \"domestic\": 0, \" cat-size\": 0, \"type\": 6}, {\"animal name\": \"newt\", \"hair\": 0, \"feathers\": 0, \"eggs\": 1, \"milk\": 0, \"airborne\": 0, \"aquatic\": 1, \"predator\": 1, \"toothed\": 1, \"backbone\": 1, \"breathes\": 1, \"venomous\": 0, \"fins\": 0, \"legs\": 4, \"tail\": 1, \"domestic\": 0, \" cat-size\": 0, \"type\": 5}, {\"animal name\": \"octopus\", \"hair\": 0, \"feathers\": 0, \"eggs\": 1, \"milk\": 0, \"airborne\": 0, \"aquatic\": 1, \"predator\": 1, \"toothed\": 0, \"backbone\": 0, \"breathes\": 0, \"venomous\": 0, \"fins\": 0, \"legs\": 8, \"tail\": 0, \"domestic\": 0, \" cat-size\": 1, \"type\": 7}, {\"animal name\": \"opossum\", \"hair\": 1, \"feathers\": 0, \"eggs\": 0, \"milk\": 1, \"airborne\": 0, \"aquatic\": 0, \"predator\": 1, \"toothed\": 1, \"backbone\": 1, \"breathes\": 1, \"venomous\": 0, \"fins\": 0, \"legs\": 4, \"tail\": 1, \"domestic\": 0, \" cat-size\": 0, \"type\": 1}, {\"animal name\": \"oryx\", \"hair\": 1, \"feathers\": 0, \"eggs\": 0, \"milk\": 1, \"airborne\": 0, \"aquatic\": 0, \"predator\": 0, \"toothed\": 1, \"backbone\": 1, \"breathes\": 1, \"venomous\": 0, \"fins\": 0, \"legs\": 4, \"tail\": 1, \"domestic\": 0, \" cat-size\": 1, \"type\": 1}, {\"animal name\": \"ostrich\", \"hair\": 0, \"feathers\": 1, \"eggs\": 1, \"milk\": 0, \"airborne\": 0, \"aquatic\": 0, \"predator\": 0, \"toothed\": 0, \"backbone\": 1, \"breathes\": 1, \"venomous\": 0, \"fins\": 0, \"legs\": 2, \"tail\": 1, \"domestic\": 0, \" cat-size\": 1, \"type\": 2}, {\"animal name\": \"parakeet\", \"hair\": 0, \"feathers\": 1, \"eggs\": 1, \"milk\": 0, \"airborne\": 1, \"aquatic\": 0, \"predator\": 0, \"toothed\": 0, \"backbone\": 1, \"breathes\": 1, \"venomous\": 0, \"fins\": 0, \"legs\": 2, \"tail\": 1, \"domestic\": 1, \" cat-size\": 0, \"type\": 2}, {\"animal name\": \"penguin\", \"hair\": 0, \"feathers\": 1, \"eggs\": 1, \"milk\": 0, \"airborne\": 0, \"aquatic\": 1, \"predator\": 1, \"toothed\": 0, \"backbone\": 1, \"breathes\": 1, \"venomous\": 0, \"fins\": 0, \"legs\": 2, \"tail\": 1, \"domestic\": 0, \" cat-size\": 1, \"type\": 2}, {\"animal name\": \"pheasant\", \"hair\": 0, \"feathers\": 1, \"eggs\": 1, \"milk\": 0, \"airborne\": 1, \"aquatic\": 0, \"predator\": 0, \"toothed\": 0, \"backbone\": 1, \"breathes\": 1, \"venomous\": 0, \"fins\": 0, \"legs\": 2, \"tail\": 1, \"domestic\": 0, \" cat-size\": 0, \"type\": 2}, {\"animal name\": \"pike\", \"hair\": 0, \"feathers\": 0, \"eggs\": 1, \"milk\": 0, \"airborne\": 0, \"aquatic\": 1, \"predator\": 1, \"toothed\": 1, \"backbone\": 1, \"breathes\": 0, \"venomous\": 0, \"fins\": 1, \"legs\": 0, \"tail\": 1, \"domestic\": 0, \" cat-size\": 1, \"type\": 4}, {\"animal name\": \"piranha\", \"hair\": 0, \"feathers\": 0, \"eggs\": 1, \"milk\": 0, \"airborne\": 0, \"aquatic\": 1, \"predator\": 1, \"toothed\": 1, \"backbone\": 1, \"breathes\": 0, \"venomous\": 0, \"fins\": 1, \"legs\": 0, \"tail\": 1, \"domestic\": 0, \" cat-size\": 0, \"type\": 4}, {\"animal name\": \"pitviper\", \"hair\": 0, \"feathers\": 0, \"eggs\": 1, \"milk\": 0, \"airborne\": 0, \"aquatic\": 0, \"predator\": 1, \"toothed\": 1, \"backbone\": 1, \"breathes\": 1, \"venomous\": 1, \"fins\": 0, \"legs\": 0, \"tail\": 1, \"domestic\": 0, \" cat-size\": 0, \"type\": 3}, {\"animal name\": \"platypus\", \"hair\": 1, \"feathers\": 0, \"eggs\": 1, \"milk\": 1, \"airborne\": 0, \"aquatic\": 1, \"predator\": 1, \"toothed\": 0, \"backbone\": 1, \"breathes\": 1, \"venomous\": 0, \"fins\": 0, \"legs\": 4, \"tail\": 1, \"domestic\": 0, \" cat-size\": 1, \"type\": 1}, {\"animal name\": \"polecat\", \"hair\": 1, \"feathers\": 0, \"eggs\": 0, \"milk\": 1, \"airborne\": 0, \"aquatic\": 0, \"predator\": 1, \"toothed\": 1, \"backbone\": 1, \"breathes\": 1, \"venomous\": 0, \"fins\": 0, \"legs\": 4, \"tail\": 1, \"domestic\": 0, \" cat-size\": 1, \"type\": 1}, {\"animal name\": \"pony\", \"hair\": 1, \"feathers\": 0, \"eggs\": 0, \"milk\": 1, \"airborne\": 0, \"aquatic\": 0, \"predator\": 0, \"toothed\": 1, \"backbone\": 1, \"breathes\": 1, \"venomous\": 0, \"fins\": 0, \"legs\": 4, \"tail\": 1, \"domestic\": 1, \" cat-size\": 1, \"type\": 1}, {\"animal name\": \"porpoise\", \"hair\": 0, \"feathers\": 0, \"eggs\": 0, \"milk\": 1, \"airborne\": 0, \"aquatic\": 1, \"predator\": 1, \"toothed\": 1, \"backbone\": 1, \"breathes\": 1, \"venomous\": 0, \"fins\": 1, \"legs\": 0, \"tail\": 1, \"domestic\": 0, \" cat-size\": 1, \"type\": 1}, {\"animal name\": \"puma\", \"hair\": 1, \"feathers\": 0, \"eggs\": 0, \"milk\": 1, \"airborne\": 0, \"aquatic\": 0, \"predator\": 1, \"toothed\": 1, \"backbone\": 1, \"breathes\": 1, \"venomous\": 0, \"fins\": 0, \"legs\": 4, \"tail\": 1, \"domestic\": 0, \" cat-size\": 1, \"type\": 1}, {\"animal name\": \"pussycat\", \"hair\": 1, \"feathers\": 0, \"eggs\": 0, \"milk\": 1, \"airborne\": 0, \"aquatic\": 0, \"predator\": 1, \"toothed\": 1, \"backbone\": 1, \"breathes\": 1, \"venomous\": 0, \"fins\": 0, \"legs\": 4, \"tail\": 1, \"domestic\": 1, \" cat-size\": 1, \"type\": 1}, {\"animal name\": \"raccoon\", \"hair\": 1, \"feathers\": 0, \"eggs\": 0, \"milk\": 1, \"airborne\": 0, \"aquatic\": 0, \"predator\": 1, \"toothed\": 1, \"backbone\": 1, \"breathes\": 1, \"venomous\": 0, \"fins\": 0, \"legs\": 4, \"tail\": 1, \"domestic\": 0, \" cat-size\": 1, \"type\": 1}, {\"animal name\": \"reindeer\", \"hair\": 1, \"feathers\": 0, \"eggs\": 0, \"milk\": 1, \"airborne\": 0, \"aquatic\": 0, \"predator\": 0, \"toothed\": 1, \"backbone\": 1, \"breathes\": 1, \"venomous\": 0, \"fins\": 0, \"legs\": 4, \"tail\": 1, \"domestic\": 1, \" cat-size\": 1, \"type\": 1}, {\"animal name\": \"rhea\", \"hair\": 0, \"feathers\": 1, \"eggs\": 1, \"milk\": 0, \"airborne\": 0, \"aquatic\": 0, \"predator\": 1, \"toothed\": 0, \"backbone\": 1, \"breathes\": 1, \"venomous\": 0, \"fins\": 0, \"legs\": 2, \"tail\": 1, \"domestic\": 0, \" cat-size\": 1, \"type\": 2}, {\"animal name\": \"scorpion\", \"hair\": 0, \"feathers\": 0, \"eggs\": 0, \"milk\": 0, \"airborne\": 0, \"aquatic\": 0, \"predator\": 1, \"toothed\": 0, \"backbone\": 0, \"breathes\": 1, \"venomous\": 1, \"fins\": 0, \"legs\": 8, \"tail\": 1, \"domestic\": 0, \" cat-size\": 0, \"type\": 7}, {\"animal name\": \"seahorse\", \"hair\": 0, \"feathers\": 0, \"eggs\": 1, \"milk\": 0, \"airborne\": 0, \"aquatic\": 1, \"predator\": 0, \"toothed\": 1, \"backbone\": 1, \"breathes\": 0, \"venomous\": 0, \"fins\": 1, \"legs\": 0, \"tail\": 1, \"domestic\": 0, \" cat-size\": 0, \"type\": 4}, {\"animal name\": \"seal\", \"hair\": 1, \"feathers\": 0, \"eggs\": 0, \"milk\": 1, \"airborne\": 0, \"aquatic\": 1, \"predator\": 1, \"toothed\": 1, \"backbone\": 1, \"breathes\": 1, \"venomous\": 0, \"fins\": 1, \"legs\": 0, \"tail\": 0, \"domestic\": 0, \" cat-size\": 1, \"type\": 1}, {\"animal name\": \"sealion\", \"hair\": 1, \"feathers\": 0, \"eggs\": 0, \"milk\": 1, \"airborne\": 0, \"aquatic\": 1, \"predator\": 1, \"toothed\": 1, \"backbone\": 1, \"breathes\": 1, \"venomous\": 0, \"fins\": 1, \"legs\": 2, \"tail\": 1, \"domestic\": 0, \" cat-size\": 1, \"type\": 1}, {\"animal name\": \"seasnake\", \"hair\": 0, \"feathers\": 0, \"eggs\": 0, \"milk\": 0, \"airborne\": 0, \"aquatic\": 1, \"predator\": 1, \"toothed\": 1, \"backbone\": 1, \"breathes\": 0, \"venomous\": 1, \"fins\": 0, \"legs\": 0, \"tail\": 1, \"domestic\": 0, \" cat-size\": 0, \"type\": 3}, {\"animal name\": \"seawasp\", \"hair\": 0, \"feathers\": 0, \"eggs\": 1, \"milk\": 0, \"airborne\": 0, \"aquatic\": 1, \"predator\": 1, \"toothed\": 0, \"backbone\": 0, \"breathes\": 0, \"venomous\": 1, \"fins\": 0, \"legs\": 0, \"tail\": 0, \"domestic\": 0, \" cat-size\": 0, \"type\": 7}, {\"animal name\": \"skimmer\", \"hair\": 0, \"feathers\": 1, \"eggs\": 1, \"milk\": 0, \"airborne\": 1, \"aquatic\": 1, \"predator\": 1, \"toothed\": 0, \"backbone\": 1, \"breathes\": 1, \"venomous\": 0, \"fins\": 0, \"legs\": 2, \"tail\": 1, \"domestic\": 0, \" cat-size\": 0, \"type\": 2}, {\"animal name\": \"skua\", \"hair\": 0, \"feathers\": 1, \"eggs\": 1, \"milk\": 0, \"airborne\": 1, \"aquatic\": 1, \"predator\": 1, \"toothed\": 0, \"backbone\": 1, \"breathes\": 1, \"venomous\": 0, \"fins\": 0, \"legs\": 2, \"tail\": 1, \"domestic\": 0, \" cat-size\": 0, \"type\": 2}, {\"animal name\": \"slowworm\", \"hair\": 0, \"feathers\": 0, \"eggs\": 1, \"milk\": 0, \"airborne\": 0, \"aquatic\": 0, \"predator\": 1, \"toothed\": 1, \"backbone\": 1, \"breathes\": 1, \"venomous\": 0, \"fins\": 0, \"legs\": 0, \"tail\": 1, \"domestic\": 0, \" cat-size\": 0, \"type\": 3}, {\"animal name\": \"slug\", \"hair\": 0, \"feathers\": 0, \"eggs\": 1, \"milk\": 0, \"airborne\": 0, \"aquatic\": 0, \"predator\": 0, \"toothed\": 0, \"backbone\": 0, \"breathes\": 1, \"venomous\": 0, \"fins\": 0, \"legs\": 0, \"tail\": 0, \"domestic\": 0, \" cat-size\": 0, \"type\": 7}, {\"animal name\": \"sole\", \"hair\": 0, \"feathers\": 0, \"eggs\": 1, \"milk\": 0, \"airborne\": 0, \"aquatic\": 1, \"predator\": 0, \"toothed\": 1, \"backbone\": 1, \"breathes\": 0, \"venomous\": 0, \"fins\": 1, \"legs\": 0, \"tail\": 1, \"domestic\": 0, \" cat-size\": 0, \"type\": 4}, {\"animal name\": \"sparrow\", \"hair\": 0, \"feathers\": 1, \"eggs\": 1, \"milk\": 0, \"airborne\": 1, \"aquatic\": 0, \"predator\": 0, \"toothed\": 0, \"backbone\": 1, \"breathes\": 1, \"venomous\": 0, \"fins\": 0, \"legs\": 2, \"tail\": 1, \"domestic\": 0, \" cat-size\": 0, \"type\": 2}, {\"animal name\": \"squirrel\", \"hair\": 1, \"feathers\": 0, \"eggs\": 0, \"milk\": 1, \"airborne\": 0, \"aquatic\": 0, \"predator\": 0, \"toothed\": 1, \"backbone\": 1, \"breathes\": 1, \"venomous\": 0, \"fins\": 0, \"legs\": 2, \"tail\": 1, \"domestic\": 0, \" cat-size\": 0, \"type\": 1}, {\"animal name\": \"starfish\", \"hair\": 0, \"feathers\": 0, \"eggs\": 1, \"milk\": 0, \"airborne\": 0, \"aquatic\": 1, \"predator\": 1, \"toothed\": 0, \"backbone\": 0, \"breathes\": 0, \"venomous\": 0, \"fins\": 0, \"legs\": 5, \"tail\": 0, \"domestic\": 0, \" cat-size\": 0, \"type\": 7}, {\"animal name\": \"stingray\", \"hair\": 0, \"feathers\": 0, \"eggs\": 1, \"milk\": 0, \"airborne\": 0, \"aquatic\": 1, \"predator\": 1, \"toothed\": 1, \"backbone\": 1, \"breathes\": 0, \"venomous\": 1, \"fins\": 1, \"legs\": 0, \"tail\": 1, \"domestic\": 0, \" cat-size\": 1, \"type\": 4}, {\"animal name\": \"swan\", \"hair\": 0, \"feathers\": 1, \"eggs\": 1, \"milk\": 0, \"airborne\": 1, \"aquatic\": 1, \"predator\": 0, \"toothed\": 0, \"backbone\": 1, \"breathes\": 1, \"venomous\": 0, \"fins\": 0, \"legs\": 2, \"tail\": 1, \"domestic\": 0, \" cat-size\": 1, \"type\": 2}, {\"animal name\": \"termite\", \"hair\": 0, \"feathers\": 0, \"eggs\": 1, \"milk\": 0, \"airborne\": 0, \"aquatic\": 0, \"predator\": 0, \"toothed\": 0, \"backbone\": 0, \"breathes\": 1, \"venomous\": 0, \"fins\": 0, \"legs\": 6, \"tail\": 0, \"domestic\": 0, \" cat-size\": 0, \"type\": 6}, {\"animal name\": \"toad\", \"hair\": 0, \"feathers\": 0, \"eggs\": 1, \"milk\": 0, \"airborne\": 0, \"aquatic\": 1, \"predator\": 0, \"toothed\": 1, \"backbone\": 1, \"breathes\": 1, \"venomous\": 0, \"fins\": 0, \"legs\": 4, \"tail\": 0, \"domestic\": 0, \" cat-size\": 0, \"type\": 5}, {\"animal name\": \"tortoise\", \"hair\": 0, \"feathers\": 0, \"eggs\": 1, \"milk\": 0, \"airborne\": 0, \"aquatic\": 0, \"predator\": 0, \"toothed\": 0, \"backbone\": 1, \"breathes\": 1, \"venomous\": 0, \"fins\": 0, \"legs\": 4, \"tail\": 1, \"domestic\": 0, \" cat-size\": 1, \"type\": 3}, {\"animal name\": \"tuatara\", \"hair\": 0, \"feathers\": 0, \"eggs\": 1, \"milk\": 0, \"airborne\": 0, \"aquatic\": 0, \"predator\": 1, \"toothed\": 1, \"backbone\": 1, \"breathes\": 1, \"venomous\": 0, \"fins\": 0, \"legs\": 4, \"tail\": 1, \"domestic\": 0, \" cat-size\": 0, \"type\": 3}, {\"animal name\": \"tuna\", \"hair\": 0, \"feathers\": 0, \"eggs\": 1, \"milk\": 0, \"airborne\": 0, \"aquatic\": 1, \"predator\": 1, \"toothed\": 1, \"backbone\": 1, \"breathes\": 0, \"venomous\": 0, \"fins\": 1, \"legs\": 0, \"tail\": 1, \"domestic\": 0, \" cat-size\": 1, \"type\": 4}, {\"animal name\": \"vampire\", \"hair\": 1, \"feathers\": 0, \"eggs\": 0, \"milk\": 1, \"airborne\": 1, \"aquatic\": 0, \"predator\": 0, \"toothed\": 1, \"backbone\": 1, \"breathes\": 1, \"venomous\": 0, \"fins\": 0, \"legs\": 2, \"tail\": 1, \"domestic\": 0, \" cat-size\": 0, \"type\": 1}, {\"animal name\": \"vole\", \"hair\": 1, \"feathers\": 0, \"eggs\": 0, \"milk\": 1, \"airborne\": 0, \"aquatic\": 0, \"predator\": 0, \"toothed\": 1, \"backbone\": 1, \"breathes\": 1, \"venomous\": 0, \"fins\": 0, \"legs\": 4, \"tail\": 1, \"domestic\": 0, \" cat-size\": 0, \"type\": 1}, {\"animal name\": \"vulture\", \"hair\": 0, \"feathers\": 1, \"eggs\": 1, \"milk\": 0, \"airborne\": 1, \"aquatic\": 0, \"predator\": 1, \"toothed\": 0, \"backbone\": 1, \"breathes\": 1, \"venomous\": 0, \"fins\": 0, \"legs\": 2, \"tail\": 1, \"domestic\": 0, \" cat-size\": 1, \"type\": 2}, {\"animal name\": \"wallaby\", \"hair\": 1, \"feathers\": 0, \"eggs\": 0, \"milk\": 1, \"airborne\": 0, \"aquatic\": 0, \"predator\": 0, \"toothed\": 1, \"backbone\": 1, \"breathes\": 1, \"venomous\": 0, \"fins\": 0, \"legs\": 2, \"tail\": 1, \"domestic\": 0, \" cat-size\": 1, \"type\": 1}, {\"animal name\": \"wasp\", \"hair\": 1, \"feathers\": 0, \"eggs\": 1, \"milk\": 0, \"airborne\": 1, \"aquatic\": 0, \"predator\": 0, \"toothed\": 0, \"backbone\": 0, \"breathes\": 1, \"venomous\": 1, \"fins\": 0, \"legs\": 6, \"tail\": 0, \"domestic\": 0, \" cat-size\": 0, \"type\": 6}, {\"animal name\": \"wolf\", \"hair\": 1, \"feathers\": 0, \"eggs\": 0, \"milk\": 1, \"airborne\": 0, \"aquatic\": 0, \"predator\": 1, \"toothed\": 1, \"backbone\": 1, \"breathes\": 1, \"venomous\": 0, \"fins\": 0, \"legs\": 4, \"tail\": 1, \"domestic\": 0, \" cat-size\": 1, \"type\": 1}, {\"animal name\": \"worm\", \"hair\": 0, \"feathers\": 0, \"eggs\": 1, \"milk\": 0, \"airborne\": 0, \"aquatic\": 0, \"predator\": 0, \"toothed\": 0, \"backbone\": 0, \"breathes\": 1, \"venomous\": 0, \"fins\": 0, \"legs\": 0, \"tail\": 0, \"domestic\": 0, \" cat-size\": 0, \"type\": 7}, {\"animal name\": \"wren\", \"hair\": 0, \"feathers\": 1, \"eggs\": 1, \"milk\": 0, \"airborne\": 1, \"aquatic\": 0, \"predator\": 0, \"toothed\": 0, \"backbone\": 1, \"breathes\": 1, \"venomous\": 0, \"fins\": 0, \"legs\": 2, \"tail\": 1, \"domestic\": 0, \" cat-size\": 0, \"type\": 2}]}}, {\"mode\": \"vega-lite\"});\n",
       "</script>"
      ],
      "text/plain": [
       "alt.Chart(...)"
      ]
     },
     "execution_count": 28,
     "metadata": {},
     "output_type": "execute_result"
    }
   ],
   "source": [
    "plot2 = alt.Chart(df_zoo).mark_bar().encode(\n",
    "    x = 'animal name',\n",
    "    y = 'legs'\n",
    ")\n",
    "plot2"
   ]
  },
  {
   "cell_type": "code",
   "execution_count": 31,
   "metadata": {},
   "outputs": [
    {
     "ename": "ValueError",
     "evalue": "Mime type rendering requires nbformat>=4.2.0 but it is not installed",
     "output_type": "error",
     "traceback": [
      "\u001b[1;31m---------------------------------------------------------------------------\u001b[0m",
      "\u001b[1;31mValueError\u001b[0m                                Traceback (most recent call last)",
      "File \u001b[1;32me:\\Users\\juan98\\anaconda3\\envs\\pyenv\\lib\\site-packages\\IPython\\core\\formatters.py:921\u001b[0m, in \u001b[0;36mIPythonDisplayFormatter.__call__\u001b[1;34m(self, obj)\u001b[0m\n\u001b[0;32m    <a href='file:///e%3A/Users/juan98/anaconda3/envs/pyenv/lib/site-packages/IPython/core/formatters.py?line=918'>919</a>\u001b[0m method \u001b[39m=\u001b[39m get_real_method(obj, \u001b[39mself\u001b[39m\u001b[39m.\u001b[39mprint_method)\n\u001b[0;32m    <a href='file:///e%3A/Users/juan98/anaconda3/envs/pyenv/lib/site-packages/IPython/core/formatters.py?line=919'>920</a>\u001b[0m \u001b[39mif\u001b[39;00m method \u001b[39mis\u001b[39;00m \u001b[39mnot\u001b[39;00m \u001b[39mNone\u001b[39;00m:\n\u001b[1;32m--> <a href='file:///e%3A/Users/juan98/anaconda3/envs/pyenv/lib/site-packages/IPython/core/formatters.py?line=920'>921</a>\u001b[0m     method()\n\u001b[0;32m    <a href='file:///e%3A/Users/juan98/anaconda3/envs/pyenv/lib/site-packages/IPython/core/formatters.py?line=921'>922</a>\u001b[0m     \u001b[39mreturn\u001b[39;00m \u001b[39mTrue\u001b[39;00m\n",
      "File \u001b[1;32me:\\Users\\juan98\\anaconda3\\envs\\pyenv\\lib\\site-packages\\plotly\\basedatatypes.py:844\u001b[0m, in \u001b[0;36mBaseFigure._ipython_display_\u001b[1;34m(self)\u001b[0m\n\u001b[0;32m    <a href='file:///e%3A/Users/juan98/anaconda3/envs/pyenv/lib/site-packages/plotly/basedatatypes.py?line=840'>841</a>\u001b[0m \u001b[39mimport\u001b[39;00m \u001b[39mplotly\u001b[39;00m\u001b[39m.\u001b[39;00m\u001b[39mio\u001b[39;00m \u001b[39mas\u001b[39;00m \u001b[39mpio\u001b[39;00m\n\u001b[0;32m    <a href='file:///e%3A/Users/juan98/anaconda3/envs/pyenv/lib/site-packages/plotly/basedatatypes.py?line=842'>843</a>\u001b[0m \u001b[39mif\u001b[39;00m pio\u001b[39m.\u001b[39mrenderers\u001b[39m.\u001b[39mrender_on_display \u001b[39mand\u001b[39;00m pio\u001b[39m.\u001b[39mrenderers\u001b[39m.\u001b[39mdefault:\n\u001b[1;32m--> <a href='file:///e%3A/Users/juan98/anaconda3/envs/pyenv/lib/site-packages/plotly/basedatatypes.py?line=843'>844</a>\u001b[0m     pio\u001b[39m.\u001b[39;49mshow(\u001b[39mself\u001b[39;49m)\n\u001b[0;32m    <a href='file:///e%3A/Users/juan98/anaconda3/envs/pyenv/lib/site-packages/plotly/basedatatypes.py?line=844'>845</a>\u001b[0m \u001b[39melse\u001b[39;00m:\n\u001b[0;32m    <a href='file:///e%3A/Users/juan98/anaconda3/envs/pyenv/lib/site-packages/plotly/basedatatypes.py?line=845'>846</a>\u001b[0m     \u001b[39mprint\u001b[39m(\u001b[39mrepr\u001b[39m(\u001b[39mself\u001b[39m))\n",
      "File \u001b[1;32me:\\Users\\juan98\\anaconda3\\envs\\pyenv\\lib\\site-packages\\plotly\\io\\_renderers.py:397\u001b[0m, in \u001b[0;36mshow\u001b[1;34m(fig, renderer, validate, **kwargs)\u001b[0m\n\u001b[0;32m    <a href='file:///e%3A/Users/juan98/anaconda3/envs/pyenv/lib/site-packages/plotly/io/_renderers.py?line=391'>392</a>\u001b[0m         \u001b[39mraise\u001b[39;00m \u001b[39mValueError\u001b[39;00m(\n\u001b[0;32m    <a href='file:///e%3A/Users/juan98/anaconda3/envs/pyenv/lib/site-packages/plotly/io/_renderers.py?line=392'>393</a>\u001b[0m             \u001b[39m\"\u001b[39m\u001b[39mMime type rendering requires ipython but it is not installed\u001b[39m\u001b[39m\"\u001b[39m\n\u001b[0;32m    <a href='file:///e%3A/Users/juan98/anaconda3/envs/pyenv/lib/site-packages/plotly/io/_renderers.py?line=393'>394</a>\u001b[0m         )\n\u001b[0;32m    <a href='file:///e%3A/Users/juan98/anaconda3/envs/pyenv/lib/site-packages/plotly/io/_renderers.py?line=395'>396</a>\u001b[0m     \u001b[39mif\u001b[39;00m \u001b[39mnot\u001b[39;00m nbformat \u001b[39mor\u001b[39;00m LooseVersion(nbformat\u001b[39m.\u001b[39m__version__) \u001b[39m<\u001b[39m LooseVersion(\u001b[39m\"\u001b[39m\u001b[39m4.2.0\u001b[39m\u001b[39m\"\u001b[39m):\n\u001b[1;32m--> <a href='file:///e%3A/Users/juan98/anaconda3/envs/pyenv/lib/site-packages/plotly/io/_renderers.py?line=396'>397</a>\u001b[0m         \u001b[39mraise\u001b[39;00m \u001b[39mValueError\u001b[39;00m(\n\u001b[0;32m    <a href='file:///e%3A/Users/juan98/anaconda3/envs/pyenv/lib/site-packages/plotly/io/_renderers.py?line=397'>398</a>\u001b[0m             \u001b[39m\"\u001b[39m\u001b[39mMime type rendering requires nbformat>=4.2.0 but it is not installed\u001b[39m\u001b[39m\"\u001b[39m\n\u001b[0;32m    <a href='file:///e%3A/Users/juan98/anaconda3/envs/pyenv/lib/site-packages/plotly/io/_renderers.py?line=398'>399</a>\u001b[0m         )\n\u001b[0;32m    <a href='file:///e%3A/Users/juan98/anaconda3/envs/pyenv/lib/site-packages/plotly/io/_renderers.py?line=400'>401</a>\u001b[0m     ipython_display\u001b[39m.\u001b[39mdisplay(bundle, raw\u001b[39m=\u001b[39m\u001b[39mTrue\u001b[39;00m)\n\u001b[0;32m    <a href='file:///e%3A/Users/juan98/anaconda3/envs/pyenv/lib/site-packages/plotly/io/_renderers.py?line=402'>403</a>\u001b[0m \u001b[39m# external renderers\u001b[39;00m\n",
      "\u001b[1;31mValueError\u001b[0m: Mime type rendering requires nbformat>=4.2.0 but it is not installed"
     ]
    },
    {
     "data": {
      "application/vnd.plotly.v1+json": {
       "config": {
        "plotlyServerURL": "https://plot.ly"
       },
       "data": [
        {
         "domain": {
          "x": [
           0,
           1
          ],
          "y": [
           0,
           1
          ]
         },
         "hovertemplate": "aquatic=%{label}<br>count=%{value}<extra></extra>",
         "labels": [
          "Acuático",
          "No acuático"
         ],
         "legendgroup": "",
         "name": "",
         "showlegend": true,
         "type": "pie",
         "values": [
          64,
          36
         ]
        }
       ],
       "layout": {
        "legend": {
         "tracegroupgap": 0
        },
        "template": {
         "data": {
          "bar": [
           {
            "error_x": {
             "color": "#2a3f5f"
            },
            "error_y": {
             "color": "#2a3f5f"
            },
            "marker": {
             "line": {
              "color": "#E5ECF6",
              "width": 0.5
             },
             "pattern": {
              "fillmode": "overlay",
              "size": 10,
              "solidity": 0.2
             }
            },
            "type": "bar"
           }
          ],
          "barpolar": [
           {
            "marker": {
             "line": {
              "color": "#E5ECF6",
              "width": 0.5
             },
             "pattern": {
              "fillmode": "overlay",
              "size": 10,
              "solidity": 0.2
             }
            },
            "type": "barpolar"
           }
          ],
          "carpet": [
           {
            "aaxis": {
             "endlinecolor": "#2a3f5f",
             "gridcolor": "white",
             "linecolor": "white",
             "minorgridcolor": "white",
             "startlinecolor": "#2a3f5f"
            },
            "baxis": {
             "endlinecolor": "#2a3f5f",
             "gridcolor": "white",
             "linecolor": "white",
             "minorgridcolor": "white",
             "startlinecolor": "#2a3f5f"
            },
            "type": "carpet"
           }
          ],
          "choropleth": [
           {
            "colorbar": {
             "outlinewidth": 0,
             "ticks": ""
            },
            "type": "choropleth"
           }
          ],
          "contour": [
           {
            "colorbar": {
             "outlinewidth": 0,
             "ticks": ""
            },
            "colorscale": [
             [
              0,
              "#0d0887"
             ],
             [
              0.1111111111111111,
              "#46039f"
             ],
             [
              0.2222222222222222,
              "#7201a8"
             ],
             [
              0.3333333333333333,
              "#9c179e"
             ],
             [
              0.4444444444444444,
              "#bd3786"
             ],
             [
              0.5555555555555556,
              "#d8576b"
             ],
             [
              0.6666666666666666,
              "#ed7953"
             ],
             [
              0.7777777777777778,
              "#fb9f3a"
             ],
             [
              0.8888888888888888,
              "#fdca26"
             ],
             [
              1,
              "#f0f921"
             ]
            ],
            "type": "contour"
           }
          ],
          "contourcarpet": [
           {
            "colorbar": {
             "outlinewidth": 0,
             "ticks": ""
            },
            "type": "contourcarpet"
           }
          ],
          "heatmap": [
           {
            "colorbar": {
             "outlinewidth": 0,
             "ticks": ""
            },
            "colorscale": [
             [
              0,
              "#0d0887"
             ],
             [
              0.1111111111111111,
              "#46039f"
             ],
             [
              0.2222222222222222,
              "#7201a8"
             ],
             [
              0.3333333333333333,
              "#9c179e"
             ],
             [
              0.4444444444444444,
              "#bd3786"
             ],
             [
              0.5555555555555556,
              "#d8576b"
             ],
             [
              0.6666666666666666,
              "#ed7953"
             ],
             [
              0.7777777777777778,
              "#fb9f3a"
             ],
             [
              0.8888888888888888,
              "#fdca26"
             ],
             [
              1,
              "#f0f921"
             ]
            ],
            "type": "heatmap"
           }
          ],
          "heatmapgl": [
           {
            "colorbar": {
             "outlinewidth": 0,
             "ticks": ""
            },
            "colorscale": [
             [
              0,
              "#0d0887"
             ],
             [
              0.1111111111111111,
              "#46039f"
             ],
             [
              0.2222222222222222,
              "#7201a8"
             ],
             [
              0.3333333333333333,
              "#9c179e"
             ],
             [
              0.4444444444444444,
              "#bd3786"
             ],
             [
              0.5555555555555556,
              "#d8576b"
             ],
             [
              0.6666666666666666,
              "#ed7953"
             ],
             [
              0.7777777777777778,
              "#fb9f3a"
             ],
             [
              0.8888888888888888,
              "#fdca26"
             ],
             [
              1,
              "#f0f921"
             ]
            ],
            "type": "heatmapgl"
           }
          ],
          "histogram": [
           {
            "marker": {
             "pattern": {
              "fillmode": "overlay",
              "size": 10,
              "solidity": 0.2
             }
            },
            "type": "histogram"
           }
          ],
          "histogram2d": [
           {
            "colorbar": {
             "outlinewidth": 0,
             "ticks": ""
            },
            "colorscale": [
             [
              0,
              "#0d0887"
             ],
             [
              0.1111111111111111,
              "#46039f"
             ],
             [
              0.2222222222222222,
              "#7201a8"
             ],
             [
              0.3333333333333333,
              "#9c179e"
             ],
             [
              0.4444444444444444,
              "#bd3786"
             ],
             [
              0.5555555555555556,
              "#d8576b"
             ],
             [
              0.6666666666666666,
              "#ed7953"
             ],
             [
              0.7777777777777778,
              "#fb9f3a"
             ],
             [
              0.8888888888888888,
              "#fdca26"
             ],
             [
              1,
              "#f0f921"
             ]
            ],
            "type": "histogram2d"
           }
          ],
          "histogram2dcontour": [
           {
            "colorbar": {
             "outlinewidth": 0,
             "ticks": ""
            },
            "colorscale": [
             [
              0,
              "#0d0887"
             ],
             [
              0.1111111111111111,
              "#46039f"
             ],
             [
              0.2222222222222222,
              "#7201a8"
             ],
             [
              0.3333333333333333,
              "#9c179e"
             ],
             [
              0.4444444444444444,
              "#bd3786"
             ],
             [
              0.5555555555555556,
              "#d8576b"
             ],
             [
              0.6666666666666666,
              "#ed7953"
             ],
             [
              0.7777777777777778,
              "#fb9f3a"
             ],
             [
              0.8888888888888888,
              "#fdca26"
             ],
             [
              1,
              "#f0f921"
             ]
            ],
            "type": "histogram2dcontour"
           }
          ],
          "mesh3d": [
           {
            "colorbar": {
             "outlinewidth": 0,
             "ticks": ""
            },
            "type": "mesh3d"
           }
          ],
          "parcoords": [
           {
            "line": {
             "colorbar": {
              "outlinewidth": 0,
              "ticks": ""
             }
            },
            "type": "parcoords"
           }
          ],
          "pie": [
           {
            "automargin": true,
            "type": "pie"
           }
          ],
          "scatter": [
           {
            "marker": {
             "colorbar": {
              "outlinewidth": 0,
              "ticks": ""
             }
            },
            "type": "scatter"
           }
          ],
          "scatter3d": [
           {
            "line": {
             "colorbar": {
              "outlinewidth": 0,
              "ticks": ""
             }
            },
            "marker": {
             "colorbar": {
              "outlinewidth": 0,
              "ticks": ""
             }
            },
            "type": "scatter3d"
           }
          ],
          "scattercarpet": [
           {
            "marker": {
             "colorbar": {
              "outlinewidth": 0,
              "ticks": ""
             }
            },
            "type": "scattercarpet"
           }
          ],
          "scattergeo": [
           {
            "marker": {
             "colorbar": {
              "outlinewidth": 0,
              "ticks": ""
             }
            },
            "type": "scattergeo"
           }
          ],
          "scattergl": [
           {
            "marker": {
             "colorbar": {
              "outlinewidth": 0,
              "ticks": ""
             }
            },
            "type": "scattergl"
           }
          ],
          "scattermapbox": [
           {
            "marker": {
             "colorbar": {
              "outlinewidth": 0,
              "ticks": ""
             }
            },
            "type": "scattermapbox"
           }
          ],
          "scatterpolar": [
           {
            "marker": {
             "colorbar": {
              "outlinewidth": 0,
              "ticks": ""
             }
            },
            "type": "scatterpolar"
           }
          ],
          "scatterpolargl": [
           {
            "marker": {
             "colorbar": {
              "outlinewidth": 0,
              "ticks": ""
             }
            },
            "type": "scatterpolargl"
           }
          ],
          "scatterternary": [
           {
            "marker": {
             "colorbar": {
              "outlinewidth": 0,
              "ticks": ""
             }
            },
            "type": "scatterternary"
           }
          ],
          "surface": [
           {
            "colorbar": {
             "outlinewidth": 0,
             "ticks": ""
            },
            "colorscale": [
             [
              0,
              "#0d0887"
             ],
             [
              0.1111111111111111,
              "#46039f"
             ],
             [
              0.2222222222222222,
              "#7201a8"
             ],
             [
              0.3333333333333333,
              "#9c179e"
             ],
             [
              0.4444444444444444,
              "#bd3786"
             ],
             [
              0.5555555555555556,
              "#d8576b"
             ],
             [
              0.6666666666666666,
              "#ed7953"
             ],
             [
              0.7777777777777778,
              "#fb9f3a"
             ],
             [
              0.8888888888888888,
              "#fdca26"
             ],
             [
              1,
              "#f0f921"
             ]
            ],
            "type": "surface"
           }
          ],
          "table": [
           {
            "cells": {
             "fill": {
              "color": "#EBF0F8"
             },
             "line": {
              "color": "white"
             }
            },
            "header": {
             "fill": {
              "color": "#C8D4E3"
             },
             "line": {
              "color": "white"
             }
            },
            "type": "table"
           }
          ]
         },
         "layout": {
          "annotationdefaults": {
           "arrowcolor": "#2a3f5f",
           "arrowhead": 0,
           "arrowwidth": 1
          },
          "autotypenumbers": "strict",
          "coloraxis": {
           "colorbar": {
            "outlinewidth": 0,
            "ticks": ""
           }
          },
          "colorscale": {
           "diverging": [
            [
             0,
             "#8e0152"
            ],
            [
             0.1,
             "#c51b7d"
            ],
            [
             0.2,
             "#de77ae"
            ],
            [
             0.3,
             "#f1b6da"
            ],
            [
             0.4,
             "#fde0ef"
            ],
            [
             0.5,
             "#f7f7f7"
            ],
            [
             0.6,
             "#e6f5d0"
            ],
            [
             0.7,
             "#b8e186"
            ],
            [
             0.8,
             "#7fbc41"
            ],
            [
             0.9,
             "#4d9221"
            ],
            [
             1,
             "#276419"
            ]
           ],
           "sequential": [
            [
             0,
             "#0d0887"
            ],
            [
             0.1111111111111111,
             "#46039f"
            ],
            [
             0.2222222222222222,
             "#7201a8"
            ],
            [
             0.3333333333333333,
             "#9c179e"
            ],
            [
             0.4444444444444444,
             "#bd3786"
            ],
            [
             0.5555555555555556,
             "#d8576b"
            ],
            [
             0.6666666666666666,
             "#ed7953"
            ],
            [
             0.7777777777777778,
             "#fb9f3a"
            ],
            [
             0.8888888888888888,
             "#fdca26"
            ],
            [
             1,
             "#f0f921"
            ]
           ],
           "sequentialminus": [
            [
             0,
             "#0d0887"
            ],
            [
             0.1111111111111111,
             "#46039f"
            ],
            [
             0.2222222222222222,
             "#7201a8"
            ],
            [
             0.3333333333333333,
             "#9c179e"
            ],
            [
             0.4444444444444444,
             "#bd3786"
            ],
            [
             0.5555555555555556,
             "#d8576b"
            ],
            [
             0.6666666666666666,
             "#ed7953"
            ],
            [
             0.7777777777777778,
             "#fb9f3a"
            ],
            [
             0.8888888888888888,
             "#fdca26"
            ],
            [
             1,
             "#f0f921"
            ]
           ]
          },
          "colorway": [
           "#636efa",
           "#EF553B",
           "#00cc96",
           "#ab63fa",
           "#FFA15A",
           "#19d3f3",
           "#FF6692",
           "#B6E880",
           "#FF97FF",
           "#FECB52"
          ],
          "font": {
           "color": "#2a3f5f"
          },
          "geo": {
           "bgcolor": "white",
           "lakecolor": "white",
           "landcolor": "#E5ECF6",
           "showlakes": true,
           "showland": true,
           "subunitcolor": "white"
          },
          "hoverlabel": {
           "align": "left"
          },
          "hovermode": "closest",
          "mapbox": {
           "style": "light"
          },
          "paper_bgcolor": "white",
          "plot_bgcolor": "#E5ECF6",
          "polar": {
           "angularaxis": {
            "gridcolor": "white",
            "linecolor": "white",
            "ticks": ""
           },
           "bgcolor": "#E5ECF6",
           "radialaxis": {
            "gridcolor": "white",
            "linecolor": "white",
            "ticks": ""
           }
          },
          "scene": {
           "xaxis": {
            "backgroundcolor": "#E5ECF6",
            "gridcolor": "white",
            "gridwidth": 2,
            "linecolor": "white",
            "showbackground": true,
            "ticks": "",
            "zerolinecolor": "white"
           },
           "yaxis": {
            "backgroundcolor": "#E5ECF6",
            "gridcolor": "white",
            "gridwidth": 2,
            "linecolor": "white",
            "showbackground": true,
            "ticks": "",
            "zerolinecolor": "white"
           },
           "zaxis": {
            "backgroundcolor": "#E5ECF6",
            "gridcolor": "white",
            "gridwidth": 2,
            "linecolor": "white",
            "showbackground": true,
            "ticks": "",
            "zerolinecolor": "white"
           }
          },
          "shapedefaults": {
           "line": {
            "color": "#2a3f5f"
           }
          },
          "ternary": {
           "aaxis": {
            "gridcolor": "white",
            "linecolor": "white",
            "ticks": ""
           },
           "baxis": {
            "gridcolor": "white",
            "linecolor": "white",
            "ticks": ""
           },
           "bgcolor": "#E5ECF6",
           "caxis": {
            "gridcolor": "white",
            "linecolor": "white",
            "ticks": ""
           }
          },
          "title": {
           "x": 0.05
          },
          "xaxis": {
           "automargin": true,
           "gridcolor": "white",
           "linecolor": "white",
           "ticks": "",
           "title": {
            "standoff": 15
           },
           "zerolinecolor": "white",
           "zerolinewidth": 2
          },
          "yaxis": {
           "automargin": true,
           "gridcolor": "white",
           "linecolor": "white",
           "ticks": "",
           "title": {
            "standoff": 15
           },
           "zerolinecolor": "white",
           "zerolinewidth": 2
          }
         }
        },
        "title": {
         "text": "Animales acuaticos"
        }
       }
      },
      "text/html": [
       "<div>                        <script type=\"text/javascript\">window.PlotlyConfig = {MathJaxConfig: 'local'};</script>\n",
       "        <script src=\"https://cdn.plot.ly/plotly-2.9.0.min.js\"></script>                <div id=\"3c07f334-34ae-42ea-ad5f-0cf35a52cb1c\" class=\"plotly-graph-div\" style=\"height:100%; width:100%;\"></div>            <script type=\"text/javascript\">                                    window.PLOTLYENV=window.PLOTLYENV || {};                                    if (document.getElementById(\"3c07f334-34ae-42ea-ad5f-0cf35a52cb1c\")) {                    Plotly.newPlot(                        \"3c07f334-34ae-42ea-ad5f-0cf35a52cb1c\",                        [{\"domain\":{\"x\":[0.0,1.0],\"y\":[0.0,1.0]},\"hovertemplate\":\"aquatic=%{label}<br>count=%{value}<extra></extra>\",\"labels\":[\"Acu\\u00e1tico\",\"No acu\\u00e1tico\"],\"legendgroup\":\"\",\"name\":\"\",\"showlegend\":true,\"values\":[64,36],\"type\":\"pie\"}],                        {\"template\":{\"data\":{\"bar\":[{\"error_x\":{\"color\":\"#2a3f5f\"},\"error_y\":{\"color\":\"#2a3f5f\"},\"marker\":{\"line\":{\"color\":\"#E5ECF6\",\"width\":0.5},\"pattern\":{\"fillmode\":\"overlay\",\"size\":10,\"solidity\":0.2}},\"type\":\"bar\"}],\"barpolar\":[{\"marker\":{\"line\":{\"color\":\"#E5ECF6\",\"width\":0.5},\"pattern\":{\"fillmode\":\"overlay\",\"size\":10,\"solidity\":0.2}},\"type\":\"barpolar\"}],\"carpet\":[{\"aaxis\":{\"endlinecolor\":\"#2a3f5f\",\"gridcolor\":\"white\",\"linecolor\":\"white\",\"minorgridcolor\":\"white\",\"startlinecolor\":\"#2a3f5f\"},\"baxis\":{\"endlinecolor\":\"#2a3f5f\",\"gridcolor\":\"white\",\"linecolor\":\"white\",\"minorgridcolor\":\"white\",\"startlinecolor\":\"#2a3f5f\"},\"type\":\"carpet\"}],\"choropleth\":[{\"colorbar\":{\"outlinewidth\":0,\"ticks\":\"\"},\"type\":\"choropleth\"}],\"contour\":[{\"colorbar\":{\"outlinewidth\":0,\"ticks\":\"\"},\"colorscale\":[[0.0,\"#0d0887\"],[0.1111111111111111,\"#46039f\"],[0.2222222222222222,\"#7201a8\"],[0.3333333333333333,\"#9c179e\"],[0.4444444444444444,\"#bd3786\"],[0.5555555555555556,\"#d8576b\"],[0.6666666666666666,\"#ed7953\"],[0.7777777777777778,\"#fb9f3a\"],[0.8888888888888888,\"#fdca26\"],[1.0,\"#f0f921\"]],\"type\":\"contour\"}],\"contourcarpet\":[{\"colorbar\":{\"outlinewidth\":0,\"ticks\":\"\"},\"type\":\"contourcarpet\"}],\"heatmap\":[{\"colorbar\":{\"outlinewidth\":0,\"ticks\":\"\"},\"colorscale\":[[0.0,\"#0d0887\"],[0.1111111111111111,\"#46039f\"],[0.2222222222222222,\"#7201a8\"],[0.3333333333333333,\"#9c179e\"],[0.4444444444444444,\"#bd3786\"],[0.5555555555555556,\"#d8576b\"],[0.6666666666666666,\"#ed7953\"],[0.7777777777777778,\"#fb9f3a\"],[0.8888888888888888,\"#fdca26\"],[1.0,\"#f0f921\"]],\"type\":\"heatmap\"}],\"heatmapgl\":[{\"colorbar\":{\"outlinewidth\":0,\"ticks\":\"\"},\"colorscale\":[[0.0,\"#0d0887\"],[0.1111111111111111,\"#46039f\"],[0.2222222222222222,\"#7201a8\"],[0.3333333333333333,\"#9c179e\"],[0.4444444444444444,\"#bd3786\"],[0.5555555555555556,\"#d8576b\"],[0.6666666666666666,\"#ed7953\"],[0.7777777777777778,\"#fb9f3a\"],[0.8888888888888888,\"#fdca26\"],[1.0,\"#f0f921\"]],\"type\":\"heatmapgl\"}],\"histogram\":[{\"marker\":{\"pattern\":{\"fillmode\":\"overlay\",\"size\":10,\"solidity\":0.2}},\"type\":\"histogram\"}],\"histogram2d\":[{\"colorbar\":{\"outlinewidth\":0,\"ticks\":\"\"},\"colorscale\":[[0.0,\"#0d0887\"],[0.1111111111111111,\"#46039f\"],[0.2222222222222222,\"#7201a8\"],[0.3333333333333333,\"#9c179e\"],[0.4444444444444444,\"#bd3786\"],[0.5555555555555556,\"#d8576b\"],[0.6666666666666666,\"#ed7953\"],[0.7777777777777778,\"#fb9f3a\"],[0.8888888888888888,\"#fdca26\"],[1.0,\"#f0f921\"]],\"type\":\"histogram2d\"}],\"histogram2dcontour\":[{\"colorbar\":{\"outlinewidth\":0,\"ticks\":\"\"},\"colorscale\":[[0.0,\"#0d0887\"],[0.1111111111111111,\"#46039f\"],[0.2222222222222222,\"#7201a8\"],[0.3333333333333333,\"#9c179e\"],[0.4444444444444444,\"#bd3786\"],[0.5555555555555556,\"#d8576b\"],[0.6666666666666666,\"#ed7953\"],[0.7777777777777778,\"#fb9f3a\"],[0.8888888888888888,\"#fdca26\"],[1.0,\"#f0f921\"]],\"type\":\"histogram2dcontour\"}],\"mesh3d\":[{\"colorbar\":{\"outlinewidth\":0,\"ticks\":\"\"},\"type\":\"mesh3d\"}],\"parcoords\":[{\"line\":{\"colorbar\":{\"outlinewidth\":0,\"ticks\":\"\"}},\"type\":\"parcoords\"}],\"pie\":[{\"automargin\":true,\"type\":\"pie\"}],\"scatter\":[{\"marker\":{\"colorbar\":{\"outlinewidth\":0,\"ticks\":\"\"}},\"type\":\"scatter\"}],\"scatter3d\":[{\"line\":{\"colorbar\":{\"outlinewidth\":0,\"ticks\":\"\"}},\"marker\":{\"colorbar\":{\"outlinewidth\":0,\"ticks\":\"\"}},\"type\":\"scatter3d\"}],\"scattercarpet\":[{\"marker\":{\"colorbar\":{\"outlinewidth\":0,\"ticks\":\"\"}},\"type\":\"scattercarpet\"}],\"scattergeo\":[{\"marker\":{\"colorbar\":{\"outlinewidth\":0,\"ticks\":\"\"}},\"type\":\"scattergeo\"}],\"scattergl\":[{\"marker\":{\"colorbar\":{\"outlinewidth\":0,\"ticks\":\"\"}},\"type\":\"scattergl\"}],\"scattermapbox\":[{\"marker\":{\"colorbar\":{\"outlinewidth\":0,\"ticks\":\"\"}},\"type\":\"scattermapbox\"}],\"scatterpolar\":[{\"marker\":{\"colorbar\":{\"outlinewidth\":0,\"ticks\":\"\"}},\"type\":\"scatterpolar\"}],\"scatterpolargl\":[{\"marker\":{\"colorbar\":{\"outlinewidth\":0,\"ticks\":\"\"}},\"type\":\"scatterpolargl\"}],\"scatterternary\":[{\"marker\":{\"colorbar\":{\"outlinewidth\":0,\"ticks\":\"\"}},\"type\":\"scatterternary\"}],\"surface\":[{\"colorbar\":{\"outlinewidth\":0,\"ticks\":\"\"},\"colorscale\":[[0.0,\"#0d0887\"],[0.1111111111111111,\"#46039f\"],[0.2222222222222222,\"#7201a8\"],[0.3333333333333333,\"#9c179e\"],[0.4444444444444444,\"#bd3786\"],[0.5555555555555556,\"#d8576b\"],[0.6666666666666666,\"#ed7953\"],[0.7777777777777778,\"#fb9f3a\"],[0.8888888888888888,\"#fdca26\"],[1.0,\"#f0f921\"]],\"type\":\"surface\"}],\"table\":[{\"cells\":{\"fill\":{\"color\":\"#EBF0F8\"},\"line\":{\"color\":\"white\"}},\"header\":{\"fill\":{\"color\":\"#C8D4E3\"},\"line\":{\"color\":\"white\"}},\"type\":\"table\"}]},\"layout\":{\"annotationdefaults\":{\"arrowcolor\":\"#2a3f5f\",\"arrowhead\":0,\"arrowwidth\":1},\"autotypenumbers\":\"strict\",\"coloraxis\":{\"colorbar\":{\"outlinewidth\":0,\"ticks\":\"\"}},\"colorscale\":{\"diverging\":[[0,\"#8e0152\"],[0.1,\"#c51b7d\"],[0.2,\"#de77ae\"],[0.3,\"#f1b6da\"],[0.4,\"#fde0ef\"],[0.5,\"#f7f7f7\"],[0.6,\"#e6f5d0\"],[0.7,\"#b8e186\"],[0.8,\"#7fbc41\"],[0.9,\"#4d9221\"],[1,\"#276419\"]],\"sequential\":[[0.0,\"#0d0887\"],[0.1111111111111111,\"#46039f\"],[0.2222222222222222,\"#7201a8\"],[0.3333333333333333,\"#9c179e\"],[0.4444444444444444,\"#bd3786\"],[0.5555555555555556,\"#d8576b\"],[0.6666666666666666,\"#ed7953\"],[0.7777777777777778,\"#fb9f3a\"],[0.8888888888888888,\"#fdca26\"],[1.0,\"#f0f921\"]],\"sequentialminus\":[[0.0,\"#0d0887\"],[0.1111111111111111,\"#46039f\"],[0.2222222222222222,\"#7201a8\"],[0.3333333333333333,\"#9c179e\"],[0.4444444444444444,\"#bd3786\"],[0.5555555555555556,\"#d8576b\"],[0.6666666666666666,\"#ed7953\"],[0.7777777777777778,\"#fb9f3a\"],[0.8888888888888888,\"#fdca26\"],[1.0,\"#f0f921\"]]},\"colorway\":[\"#636efa\",\"#EF553B\",\"#00cc96\",\"#ab63fa\",\"#FFA15A\",\"#19d3f3\",\"#FF6692\",\"#B6E880\",\"#FF97FF\",\"#FECB52\"],\"font\":{\"color\":\"#2a3f5f\"},\"geo\":{\"bgcolor\":\"white\",\"lakecolor\":\"white\",\"landcolor\":\"#E5ECF6\",\"showlakes\":true,\"showland\":true,\"subunitcolor\":\"white\"},\"hoverlabel\":{\"align\":\"left\"},\"hovermode\":\"closest\",\"mapbox\":{\"style\":\"light\"},\"paper_bgcolor\":\"white\",\"plot_bgcolor\":\"#E5ECF6\",\"polar\":{\"angularaxis\":{\"gridcolor\":\"white\",\"linecolor\":\"white\",\"ticks\":\"\"},\"bgcolor\":\"#E5ECF6\",\"radialaxis\":{\"gridcolor\":\"white\",\"linecolor\":\"white\",\"ticks\":\"\"}},\"scene\":{\"xaxis\":{\"backgroundcolor\":\"#E5ECF6\",\"gridcolor\":\"white\",\"gridwidth\":2,\"linecolor\":\"white\",\"showbackground\":true,\"ticks\":\"\",\"zerolinecolor\":\"white\"},\"yaxis\":{\"backgroundcolor\":\"#E5ECF6\",\"gridcolor\":\"white\",\"gridwidth\":2,\"linecolor\":\"white\",\"showbackground\":true,\"ticks\":\"\",\"zerolinecolor\":\"white\"},\"zaxis\":{\"backgroundcolor\":\"#E5ECF6\",\"gridcolor\":\"white\",\"gridwidth\":2,\"linecolor\":\"white\",\"showbackground\":true,\"ticks\":\"\",\"zerolinecolor\":\"white\"}},\"shapedefaults\":{\"line\":{\"color\":\"#2a3f5f\"}},\"ternary\":{\"aaxis\":{\"gridcolor\":\"white\",\"linecolor\":\"white\",\"ticks\":\"\"},\"baxis\":{\"gridcolor\":\"white\",\"linecolor\":\"white\",\"ticks\":\"\"},\"bgcolor\":\"#E5ECF6\",\"caxis\":{\"gridcolor\":\"white\",\"linecolor\":\"white\",\"ticks\":\"\"}},\"title\":{\"x\":0.05},\"xaxis\":{\"automargin\":true,\"gridcolor\":\"white\",\"linecolor\":\"white\",\"ticks\":\"\",\"title\":{\"standoff\":15},\"zerolinecolor\":\"white\",\"zerolinewidth\":2},\"yaxis\":{\"automargin\":true,\"gridcolor\":\"white\",\"linecolor\":\"white\",\"ticks\":\"\",\"title\":{\"standoff\":15},\"zerolinecolor\":\"white\",\"zerolinewidth\":2}}},\"legend\":{\"tracegroupgap\":0},\"title\":{\"text\":\"Animales acuaticos\"}},                        {\"responsive\": true}                    )                };                            </script>        </div>"
      ],
      "text/plain": [
       "Figure({\n",
       "    'data': [{'domain': {'x': [0.0, 1.0], 'y': [0.0, 1.0]},\n",
       "              'hovertemplate': 'aquatic=%{label}<br>count=%{value}<extra></extra>',\n",
       "              'labels': array(['Acuático', 'No acuático'], dtype=object),\n",
       "              'legendgroup': '',\n",
       "              'name': '',\n",
       "              'showlegend': True,\n",
       "              'type': 'pie',\n",
       "              'values': array([64, 36], dtype=int64)}],\n",
       "    'layout': {'legend': {'tracegroupgap': 0}, 'template': '...', 'title': {'text': 'Animales acuaticos'}}\n",
       "})"
      ]
     },
     "execution_count": 31,
     "metadata": {},
     "output_type": "execute_result"
    }
   ],
   "source": [
    "df_acuatics = df_zoo[['animal name','aquatic']].groupby('aquatic').count().reset_index()\n",
    "df_acuatics['aquatic'] = df_acuatics['aquatic'].apply(lambda x : 'Acuático' if x == 0 else 'No acuático')\n",
    "df_acuatics.rename(columns = {'animal name':'count'}, inplace=True)\n",
    "\n",
    "px.pie(df_acuatics, values = 'count', names = 'aquatic', title = 'Animales acuaticos')"
   ]
  }
 ],
 "metadata": {
  "interpreter": {
   "hash": "a562e0f2567299b3025a9c50faaa5385fa522f3efc5e120118df59f4e5305f11"
  },
  "kernelspec": {
   "display_name": "Python 3.9.7 ('pyenv')",
   "language": "python",
   "name": "python3"
  },
  "language_info": {
   "codemirror_mode": {
    "name": "ipython",
    "version": 3
   },
   "file_extension": ".py",
   "mimetype": "text/x-python",
   "name": "python",
   "nbconvert_exporter": "python",
   "pygments_lexer": "ipython3",
   "version": "3.9.7"
  },
  "orig_nbformat": 4
 },
 "nbformat": 4,
 "nbformat_minor": 2
}
