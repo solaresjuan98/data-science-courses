{
 "cells": [
  {
   "cell_type": "code",
   "execution_count": 1,
   "metadata": {},
   "outputs": [],
   "source": [
    "import pandas as pd"
   ]
  },
  {
   "cell_type": "code",
   "execution_count": 4,
   "metadata": {},
   "outputs": [],
   "source": [
    "df_books = pd.read_csv('file1.csv', sep= ',')"
   ]
  },
  {
   "cell_type": "code",
   "execution_count": 5,
   "metadata": {},
   "outputs": [
    {
     "data": {
      "text/plain": [
       "Index(['Name', 'Author', 'User Rating', 'Reviews', 'Price', 'Year', 'Genre'], dtype='object')"
      ]
     },
     "execution_count": 5,
     "metadata": {},
     "output_type": "execute_result"
    }
   ],
   "source": [
    "df_books.columns"
   ]
  },
  {
   "cell_type": "code",
   "execution_count": 7,
   "metadata": {},
   "outputs": [
    {
     "data": {
      "text/plain": [
       "0       {'Name': 'Mrs. Abbott', 'Link': 'https://www.h...\n",
       "1       {'Name': 'Hannah Abbott', 'Link': 'https://www...\n",
       "2       {'Name': 'Abel Treetops', 'Link': 'https://www...\n",
       "3       {'Name': 'Euan Abercrombie', 'Link': 'https://...\n",
       "4       {'Name': 'Aberforth Dumbledore', 'Link': 'http...\n",
       "                              ...                        \n",
       "1935    {'Name': 'Georgi Zdravko', 'Link': 'https://ww...\n",
       "1936    {'Name': 'Zograf', 'Link': 'https://www.hp-lex...\n",
       "1937    {'Name': 'Zonko', 'Link': 'https://www.hp-lexi...\n",
       "1938    {'Name': 'Valentina Vázquez', 'Link': 'https:/...\n",
       "1939    {'Name': 'Zygmunt Budge', 'Link': 'https://www...\n",
       "Length: 1940, dtype: object"
      ]
     },
     "execution_count": 7,
     "metadata": {},
     "output_type": "execute_result"
    }
   ],
   "source": [
    "pd.read_json('file2.json', typ='Series')"
   ]
  }
 ],
 "metadata": {
  "interpreter": {
   "hash": "78037cc579a550d944afd5edaca7ce2bb5601e2a630c8c31f57f2a16ab66b392"
  },
  "kernelspec": {
   "display_name": "Python 3.9.7 ('base')",
   "language": "python",
   "name": "python3"
  },
  "language_info": {
   "codemirror_mode": {
    "name": "ipython",
    "version": 3
   },
   "file_extension": ".py",
   "mimetype": "text/x-python",
   "name": "python",
   "nbconvert_exporter": "python",
   "pygments_lexer": "ipython3",
   "version": "3.9.7"
  },
  "orig_nbformat": 4
 },
 "nbformat": 4,
 "nbformat_minor": 2
}
